{
 "cells": [
  {
   "cell_type": "code",
   "execution_count": 1,
   "outputs": [],
   "source": [
    "import os\n",
    "from copy import deepcopy\n",
    "from pathlib import Path\n",
    "import random\n",
    "import shutil\n",
    "\n",
    "from tqdm import tqdm\n",
    "from pprint import pprint\n",
    "import pandas as pd\n",
    "import numpy as np\n",
    "import nibabel as nib\n",
    "\n",
    "from bcblib.tools.general_utils import open_json, save_json\n",
    "from lesseg_unet.utils import get_sex_int, get_age_int\n",
    "\n",
    "%load_ext autoreload\n",
    "%autoreload 2"
   ],
   "metadata": {
    "collapsed": false,
    "ExecuteTime": {
     "end_time": "2024-01-18T14:19:39.562385948Z",
     "start_time": "2024-01-18T14:19:37.228987732Z"
    }
   }
  },
  {
   "cell_type": "code",
   "execution_count": 32,
   "outputs": [],
   "source": [
    "from lesseg_unet.utils import get_perf_seg_dict, get_perf_seg_dict_from_folders\n",
    "\"\"\"\n",
    "First we need to create a dictionary with the segmentation files and the performance\n",
    "\"\"\"\n",
    "\"\"\"\n",
    "INPUTS\n",
    "\"\"\"\n",
    "# Model trained with abnormals only (but with gen dice + focal loss)\n",
    "# seg_folder = '/media/chrisfoulon/HDD2/final_training_set/abnormal_5fold_segmentation/'\n",
    "# output_folder = '/media/chrisfoulon/HDD2/final_training_set/perf_labels_analyses_abnormal_5fold_segmentation/'\n",
    "# Model trained with both abnormals and ALL the controls (but with gen dice + focal loss)\n",
    "# seg_folder = '/media/chrisfoulon/HDD2/final_training_set/controls_trained_5fold_segmentation/'\n",
    "# output_folder = '/media/chrisfoulon/HDD2/final_training_set/perf_labels_analyses_controls_5fold_segmentation/'\n",
    "# Model trained with both abnormals and the controls (but with gen dice + focal loss) without  biobank images\n",
    "# seg_folder = '/media/chrisfoulon/HDD2/final_training_set/training_with_controls_gendice_focal_no_biobank_segmentation'\n",
    "# output_folder = '/media/chrisfoulon/HDD2/final_training_set/perf_labels_training_with_controls_gendice_focal_no_biobank/'\n",
    "\n",
    "# Model trained with both abnormals and ALL the controls with dice + focal loss and a 0.1 weight on control loss\n",
    "# seg_folder = '/media/chrisfoulon/HDD2/final_training_set/control_training_wf_div10_dicefocal'\n",
    "# output_folder = '/media/chrisfoulon/HDD2/final_training_set/perf_labels_control_training_wf_div10_dicefocal/'\n",
    "# Model trained with both abnormals and ALL the controls with dice + focal loss and a 0.001 weight on control loss\n",
    "# seg_folder = '/media/chrisfoulon/HDD2/final_training_set/control_training_wf_div1000_dicefocal'\n",
    "# output_folder = '/media/chrisfoulon/HDD2/final_training_set/perf_labels_control_training_wf_div1000_dicefocal_4mm/'\n",
    "\n",
    "# Simple UNet trained with abnormals only and without any augmentation\n",
    "seg_folder = '/media/chrisfoulon/HDD2/final_training_set/abnormal_training_no_augs_unet'\n",
    "output_folder = '/media/chrisfoulon/HDD2/final_training_set/perf_labels_abnormal_training_no_augs_unet_4mm/'\n",
    "\n",
    "# /media/chrisfoulon/HDD2/final_training_set/abnormal_segmentation_dice_focal\n",
    "# seg_folder = '/media/chrisfoulon/HDD2/final_training_set/abnormal_segmentation_dice_focal'\n",
    "# output_folder = '/media/chrisfoulon/HDD2/final_training_set/perf_labels_abnormal_segmentation_dice_focal_4mm/'\n"
   ],
   "metadata": {
    "collapsed": false,
    "ExecuteTime": {
     "end_time": "2023-09-25T09:40:20.495017143Z",
     "start_time": "2023-09-25T09:40:20.332177505Z"
    }
   }
  },
  {
   "cell_type": "code",
   "execution_count": 33,
   "metadata": {
    "collapsed": true,
    "ExecuteTime": {
     "end_time": "2023-09-25T09:47:28.019499616Z",
     "start_time": "2023-09-25T09:40:23.687531760Z"
    }
   },
   "outputs": [
    {
     "name": "stdout",
     "output_type": "stream",
     "text": [
      "process from folders\n"
     ]
    },
    {
     "name": "stderr",
     "output_type": "stream",
     "text": [
      "100%|██████████| 713/713 [00:30<00:00, 23.32it/s]\n",
      "100%|██████████| 713/713 [00:31<00:00, 22.99it/s]\n",
      "100%|██████████| 713/713 [00:31<00:00, 22.92it/s]\n",
      "100%|██████████| 712/712 [00:31<00:00, 22.81it/s]\n",
      "100%|██████████| 712/712 [00:30<00:00, 23.04it/s]\n",
      "/tmp/ipykernel_16870/868534614.py:13: DeprecationWarning: Sampling from a set deprecated\n",
      "since Python 3.9 and will be removed in a subsequent version.\n",
      "  pprint({k: seg_dict[k] for k in random.sample(seg_dict.keys(), 1)})\n"
     ]
    },
    {
     "name": "stdout",
     "output_type": "stream",
     "text": [
      "{'1.2.840.846310145.12.1.1.60018303_20180417123407_201__pref__': {'Unnamed: 0': 661,\n",
      "                                                                  'b1000': '/media/chrisfoulon/HDD2/final_training_set/cleaned_abnormal_images/non_linear_co-rigid_rigid_geomean_denoise_1.2.840.846310145.12.1.1.60018303_20180417123407_201__pref___bval1000.nii.gz',\n",
      "                                                                  'core_filename': 'non_linear_co-rigid_rigid_geomean_denoise_1.2.840.846310145.12.1.1.60018303_20180417123407_201__pref___bval1000_v4066v',\n",
      "                                                                  'dice_metric': 0.9288119077682496,\n",
      "                                                                  'distance': 1.0,\n",
      "                                                                  'label': '/media/chrisfoulon/HDD2/final_training_set/abnormal_training_no_augs_unet/fold_4/val_images/R_Prefrontal/label_non_linear_co-rigid_rigid_geomean_denoise_1.2.840.846310145.12.1.1.60018303_20180417123407_201__pref___bval1000_v4066v_661.nii.gz',\n",
      "                                                                  'segmentation': '/media/chrisfoulon/HDD2/final_training_set/abnormal_training_no_augs_unet/fold_4/val_images/R_Prefrontal/output_non_linear_co-rigid_rigid_geomean_denoise_1.2.840.846310145.12.1.1.60018303_20180417123407_201__pref___bval1000_v4066v_661.nii.gz',\n",
      "                                                                  'volume': 4066}}\n"
     ]
    },
    {
     "name": "stderr",
     "output_type": "stream",
     "text": [
      "100%|██████████| 3563/3563 [04:28<00:00, 13.27it/s]\n",
      "/tmp/ipykernel_16870/868534614.py:29: DeprecationWarning: Sampling from a set deprecated\n",
      "since Python 3.9 and will be removed in a subsequent version.\n",
      "  pprint({k: seg_dict[k] for k in random.sample(seg_dict.keys(), 1)})\n"
     ]
    },
    {
     "name": "stdout",
     "output_type": "stream",
     "text": [
      "3563\n",
      "{'ep2d_diff_3scan_trace_p2_aa_20130110141242_7__pref__': {'Unnamed: 0': 572,\n",
      "                                                          'b1000': '/media/chrisfoulon/HDD2/final_training_set/cleaned_abnormal_images/non_linear_co-rigid_rigid_geomean_denoise_ep2d_diff_3scan_trace_p2_aa_20130110141242_7__pref___bval1000.nii.gz',\n",
      "                                                          'core_filename': 'non_linear_co-rigid_rigid_geomean_denoise_ep2d_diff_3scan_trace_p2_aa_20130110141242_7__pref___bval1000_v20v',\n",
      "                                                          'dice_metric': 0.9230769276618958,\n",
      "                                                          'distance': 1.0,\n",
      "                                                          'label': '/media/chrisfoulon/HDD2/final_training_set/abnormal_training_no_augs_unet/fold_4/val_images/L_Posterior_borderzone/label_non_linear_co-rigid_rigid_geomean_denoise_ep2d_diff_3scan_trace_p2_aa_20130110141242_7__pref___bval1000_v20v_572.nii.gz',\n",
      "                                                          'segmentation': '/media/chrisfoulon/HDD2/final_training_set/abnormal_training_no_augs_unet/fold_4/val_images/L_Posterior_borderzone/output_non_linear_co-rigid_rigid_geomean_denoise_ep2d_diff_3scan_trace_p2_aa_20130110141242_7__pref___bval1000_v20v_572.nii.gz',\n",
      "                                                          'volume': 20}}\n"
     ]
    }
   ],
   "source": [
    "\n",
    "\n",
    "spm_seg_folder = Path(output_folder, 'spm_segmentation')\n",
    "os.makedirs(output_folder, exist_ok=True)\n",
    "os.makedirs(spm_seg_folder, exist_ok=True)\n",
    "\n",
    "keys_struct = open_json('/media/chrisfoulon/HDD2/final_training_set/cleaned_abnormal_b1000_info_dict.json')\n",
    "\n",
    "if Path(seg_folder, '__output_image_volumes.json').exists():\n",
    "    seg_dict = get_perf_seg_dict(seg_folder, keys_struct=keys_struct, relative_output_paths=False)\n",
    "else:\n",
    "    print('process from folders')\n",
    "    seg_dict = get_perf_seg_dict_from_folders(seg_folder, keys_struct=keys_struct, relative_output_paths=False)\n",
    "# print first value of the dict\n",
    "pprint({k: seg_dict[k] for k in random.sample(seg_dict.keys(), 1)})\n",
    "# Then we need to copy the segmentation files to a separate folder for SPM ...\n",
    "output_masks_folder = Path(output_folder, 'output_masks/')\n",
    "output_labels_folder = Path(output_folder, 'output_labels/')\n",
    "os.makedirs(output_masks_folder, exist_ok=True)\n",
    "os.makedirs(output_labels_folder, exist_ok=True)\n",
    "spm_seg_dict = {}\n",
    "main_key_to_process = 'label'\n",
    "# main_key_to_process = 'segmentation'\n",
    "for k in tqdm(seg_dict):\n",
    "    shutil.copy(seg_dict[k]['segmentation'], output_masks_folder)\n",
    "    shutil.copy(seg_dict[k]['label'], output_labels_folder)\n",
    "    spm_seg_dict[k] = deepcopy(seg_dict[k])\n",
    "    spm_seg_dict[k][main_key_to_process] = str(Path(spm_seg_folder, Path(seg_dict[k][main_key_to_process]).name.split('.gz')[0]))\n",
    "    nib.save(nib.load(seg_dict[k][main_key_to_process]), spm_seg_dict[k][main_key_to_process])\n",
    "print(len(seg_dict))\n",
    "pprint({k: seg_dict[k] for k in random.sample(seg_dict.keys(), 1)})\n",
    "\n",
    "save_json(Path(seg_folder, 'perf_seg_dict.json'), seg_dict)\n",
    "save_json(Path(seg_folder, 'spm_perf_seg_dict.json'), spm_seg_dict)"
   ]
  },
  {
   "cell_type": "code",
   "execution_count": 34,
   "outputs": [],
   "source": [
    "\"\"\"\n",
    "Then we need to create a dataframe with the performance metrics\n",
    "\"\"\"\n",
    "columns=[main_key_to_process, 'dice_metric', 'distance', 'volume', 'lesion_cluster', 'PatientAge', 'PatientSex']\n",
    "b1000_info_dict = open_json('/media/chrisfoulon/HDD2/final_training_set/cleaned_abnormal_b1000_info_dict.json')\n",
    "\n",
    "\n",
    "# dict_for_df = {}\n",
    "# for k in seg_dict:\n",
    "#     for col in columns:\n",
    "#         if col in seg_dict:\n",
    "#             dict_for_df[k][col] = seg_dict[k][col]\n",
    "#         else:\n",
    "#             dict_for_df[k][col] = b1000_info_dict[k][col]\n",
    "#\n",
    "# pprint({k: dict_for_df[k] for k in random.sample(dict_for_df.keys(), 1)})\n",
    "# new_df = pd.DataFrame.from_records(dict_for_df).T\n",
    "# new_df.to_csv(Path(seg_folder, 'segmentation_perf_df.csv'), columns=columns)\n",
    "\n",
    "# create a function to do that\n",
    "def get_df_from_dict(seg_dict, columns):\n",
    "    dict_for_df = {}\n",
    "    for k in seg_dict:\n",
    "        dict_for_df[k] = {}\n",
    "        for col in columns:\n",
    "            if col in seg_dict[k]:\n",
    "                if col == 'PatientAge':\n",
    "                    dict_for_df[k][col] = get_age_int(seg_dict[k][col])\n",
    "                elif col == 'PatientSex':\n",
    "                    dict_for_df[k][col] = get_sex_int(seg_dict[k][col])\n",
    "                else:\n",
    "                    dict_for_df[k][col] = seg_dict[k][col]\n",
    "            elif col == 'lesion_cluster':\n",
    "                dict_for_df[k][col] = Path(seg_dict[k][main_key_to_process]).parent.name\n",
    "            else:\n",
    "                if col == 'PatientAge':\n",
    "                    dict_for_df[k][col] = get_age_int(b1000_info_dict[k][col])\n",
    "                elif col == 'PatientSex':\n",
    "                    dict_for_df[k][col] = get_sex_int(b1000_info_dict[k][col])\n",
    "                else:\n",
    "                    dict_for_df[k][col] = b1000_info_dict[k][col]\n",
    "    new_df = pd.DataFrame.from_records(dict_for_df).T\n",
    "    return new_df\n",
    "\n",
    "# use it on seg_dict and spm_seg_dict\n",
    "new_df = get_df_from_dict(seg_dict, columns)\n",
    "new_df.to_csv(Path(output_folder, 'segmentation_perf_df.csv'), columns=columns)\n",
    "new_df = get_df_from_dict(spm_seg_dict, columns)\n",
    "new_df.to_csv(Path(output_folder, 'spm_segmentation_perf_df.csv'), columns=columns)"
   ],
   "metadata": {
    "collapsed": false,
    "ExecuteTime": {
     "end_time": "2023-09-25T09:47:28.376061368Z",
     "start_time": "2023-09-25T09:47:28.025675516Z"
    }
   }
  },
  {
   "cell_type": "code",
   "execution_count": 35,
   "outputs": [],
   "source": [
    "\"\"\"\n",
    "Then we need to zscore the columns\n",
    "\"\"\"\n",
    "zcores_columns = ['dice_metric', 'distance', 'volume', 'PatientAge', 'PatientSex']\n",
    "for col in zcores_columns:\n",
    "    # pd.to_numeric(new_df[col])\n",
    "    new_df[col] = new_df[col].infer_objects()\n",
    "#     print(col)\n",
    "#     print(new_df[col].dtype)\n",
    "#     new_df[col] = new_df[col].apply(stats.zscore)\n",
    "normalized_df = new_df[zcores_columns]\n",
    "normalized_df=(normalized_df-normalized_df.mean())/normalized_df.std()\n",
    "normalized_df=(normalized_df-normalized_df.min())/(normalized_df.max()-normalized_df.min())\n",
    "new_df[zcores_columns] = normalized_df[zcores_columns]\n",
    "new_df.to_csv(Path(seg_folder, 'segmentation_perf_df_zscored.csv'), columns=columns)"
   ],
   "metadata": {
    "collapsed": false,
    "ExecuteTime": {
     "end_time": "2023-09-25T09:47:28.541780055Z",
     "start_time": "2023-09-25T09:47:28.379115781Z"
    }
   }
  },
  {
   "cell_type": "code",
   "execution_count": 36,
   "outputs": [
    {
     "name": "stderr",
     "output_type": "stream",
     "text": [
      "100%|██████████| 3563/3563 [03:07<00:00, 19.02it/s]\n"
     ]
    }
   ],
   "source": [
    "from nilearn.image import smooth_img\n",
    "# smooth all the images from the segmentation dict with key 'segmentation' and save them in '/media/chrisfoulon/HDD2/final_training_set/abnormal_5fold_segmentation_masks_smoothed_8'\n",
    "smooth_out_folder = output_folder + 'masks_smoothed_4'\n",
    "os.makedirs(smooth_out_folder, exist_ok=True)\n",
    "spm_smoothed_seg_dict = {}\n",
    "for k in tqdm(spm_seg_dict):\n",
    "    smoothed_img = smooth_img(spm_seg_dict[k][main_key_to_process], 4)\n",
    "    spm_smoothed_seg_dict[k] = deepcopy(spm_seg_dict[k])\n",
    "    spm_smoothed_seg_dict[k][main_key_to_process] = str(Path(smooth_out_folder, Path(spm_seg_dict[k][main_key_to_process]).name))\n",
    "    nib.save(smoothed_img, spm_smoothed_seg_dict[k][main_key_to_process])\n",
    "\n"
   ],
   "metadata": {
    "collapsed": false,
    "ExecuteTime": {
     "end_time": "2023-09-25T09:50:35.985581040Z",
     "start_time": "2023-09-25T09:47:28.547497738Z"
    }
   }
  },
  {
   "cell_type": "code",
   "execution_count": 37,
   "outputs": [],
   "source": [
    "new_df = get_df_from_dict(spm_smoothed_seg_dict, columns)\n",
    "new_df.to_csv(Path(output_folder, 'spm_smoothed_segmentation_perf_df.csv'), columns=columns)\n",
    "# STOP HERE FOR SIMPLE MODEL/DICE SPM COMPARISON"
   ],
   "metadata": {
    "collapsed": false,
    "ExecuteTime": {
     "end_time": "2023-09-25T09:50:36.130731851Z",
     "start_time": "2023-09-25T09:50:35.985282719Z"
    }
   }
  },
  {
   "cell_type": "code",
   "execution_count": 25,
   "outputs": [],
   "source": [
    "# Now, we use the spm_smoothed_segmentation_perf_df.csv from each directory in model_perf_dir_list and create a new multi_model_dice_comparison_df\n",
    "model_perf_dir_list = [\n",
    "    '/media/chrisfoulon/HDD2/final_training_set/perf_labels_analyses_abnormal_5fold_segmentation',\n",
    "    # '/media/chrisfoulon/HDD2/final_training_set/perf_labels_control_training_wf_div10_dicefocal',\n",
    "    '/media/chrisfoulon/HDD2/final_training_set/perf_labels_control_training_wf_div1000_dicefocal'\n",
    "]\n",
    "\n",
    "model_perf_df_list = [\n",
    "    pd.read_csv(Path(model_perf_dir, 'spm_smoothed_segmentation_perf_df.csv'), index_col=0)\n",
    "    for model_perf_dir in model_perf_dir_list\n",
    "]\n",
    "\n",
    "multi_model_dice_comparison_df = pd.DataFrame()\n",
    "# add the 'label' column of the first df to multi_model_dice_comparison_df\n",
    "multi_model_dice_comparison_df['label'] = model_perf_df_list[0]['label']\n",
    "# add the 'dice_metric' column of each df to multi_model_dice_comparison_df (with folder name as column name + '_dice_metric')\n",
    "for i, model_perf_df in enumerate(model_perf_df_list):\n",
    "    multi_model_dice_comparison_df[model_perf_dir_list[i].split('/')[-1] + '_dice_metric'] = model_perf_df['dice_metric']\n",
    "\n",
    "b1000_ground_truths_label_seize_dict = open_json('/media/chrisfoulon/HDD2/final_training_set/cleaned_abnormal_b1000_info_dict_label_size.json')\n",
    "\n",
    "# keys in b1000_ground_truths_label_seize_dict are the same as in multi_model_dice_comparison_df[0] first column. Match them and add the label size to multi_model_dice_comparison_df\n",
    "multi_model_dice_comparison_df['label_size'] = [b1000_ground_truths_label_seize_dict[k]['label_size']  for k in multi_model_dice_comparison_df.index]\n",
    "\n",
    "# save the multi_model_dice_comparison_df\n",
    "multi_model_dice_comparison_df.to_csv('/media/chrisfoulon/HDD2/final_training_set/multi_model_dice_comparison_df.csv', columns=multi_model_dice_comparison_df.columns)"
   ],
   "metadata": {
    "collapsed": false,
    "ExecuteTime": {
     "end_time": "2023-09-22T13:27:41.283119123Z",
     "start_time": "2023-09-22T13:27:41.084666234Z"
    }
   }
  },
  {
   "cell_type": "code",
   "execution_count": null,
   "outputs": [],
   "source": [
    "from lesseg_unet.utils import weight_lesion_dataset\n",
    "\n",
    "biobank_ctr_folder_name = 'perf_analyses_controls_5fold_segmentation'\n",
    "no_biobank_ctr_folder_name = 'perf_training_with_controls_gendice_focal_no_biobank'\n",
    "ctr_folder_name = no_biobank_ctr_folder_name\n",
    "\n",
    "abnormal_df_path = Path('/media/chrisfoulon/HDD2/final_training_set/perf_analyses_abnormal_5fold_segmentation/', 'spm_smoothed_segmentation_perf_df.csv')\n",
    "controls_df_path = Path(f'/media/chrisfoulon/HDD2/final_training_set/{ctr_folder_name}/', 'spm_smoothed_segmentation_perf_df.csv')\n",
    "\n",
    "abnormal_weighted_output_folder = Path('/media/chrisfoulon/HDD2/final_training_set/perf_analyses_abnormal_5fold_segmentation/', 'dice_weighted_smoothed_lesions')\n",
    "controls_weighted_output_folder = Path(f'/media/chrisfoulon/HDD2/final_training_set/{ctr_folder_name}/', 'dice_weighted_smoothed_lesions')\n",
    "\n",
    "# weight the images of the abnormal dataset\n",
    "abnormal_weighted_dict, abnormal_weighted_df = weight_lesion_dataset(abnormal_df_path, 'segmentation', 'dice_metric', abnormal_weighted_output_folder, 'Unnamed: 0')\n",
    "# save the weighted dataframe\n",
    "abnormal_weighted_df.to_csv(Path('/media/chrisfoulon/HDD2/final_training_set/perf_analyses_abnormal_5fold_segmentation/', 'dice_weighted_smoothed_lesions_segmentation_perf_df.csv'), columns=abnormal_weighted_df.columns)\n",
    "\n",
    "# weight the images of the controls dataset\n",
    "controls_weighted_dict, controls_weighted_df = weight_lesion_dataset(controls_df_path, 'segmentation', 'dice_metric', controls_weighted_output_folder, 'Unnamed: 0')\n",
    "# save the weighted dataframe\n",
    "controls_weighted_df.to_csv(Path(f'/media/chrisfoulon/HDD2/final_training_set/{ctr_folder_name}/', 'dice_weighted_smoothed_lesions_segmentation_perf_df.csv'), columns=controls_weighted_df.columns)\n",
    "\n",
    "\n",
    "# for each row in abnormal_weighted_df, find the corresponding row in controls_weighted_df using 'Unnamed: 0'\n",
    "# then compute the substraction of the nifti images in 'weighted_path' and save the result in a new folder\n",
    "dice_substraction_folder = Path('/media/chrisfoulon/HDD2/final_training_set/', 'dice_subtraction_smoothed_lesions_no_biobank')\n",
    "os.makedirs(dice_substraction_folder, exist_ok=True)\n",
    "for row in tqdm(abnormal_weighted_df.iterrows()):\n",
    "    key = row[1]['Unnamed: 0']\n",
    "    abnormal_path = row[1]['weighted_path']\n",
    "    abnormal_nifti = nib.load(abnormal_path)\n",
    "    abnormal_data = abnormal_nifti.get_fdata()\n",
    "    control_path = controls_weighted_df[controls_weighted_df['Unnamed: 0'] == key]['weighted_path'].values[0]\n",
    "    control_nifti = nib.load(control_path)\n",
    "    control_data = control_nifti.get_fdata()\n",
    "    dice_substraction = abnormal_data - control_data\n",
    "    dice_substraction_nifti = nib.Nifti1Image(dice_substraction, affine=abnormal_nifti.affine)\n",
    "    nib.save(dice_substraction_nifti, Path(dice_substraction_folder, Path(abnormal_path).name.replace('.nii.gz', '.nii')))"
   ],
   "metadata": {
    "collapsed": false
   }
  },
  {
   "cell_type": "code",
   "execution_count": 4,
   "outputs": [],
   "source": [
    "# Now, we want to compute the mean dice_metric between a list of perf_seg_dict and save the {key: 'mean_dice_metric': value, 'mean_distance': value_average_distance} in a new dict\n",
    "perf_seg_dict_list = [\n",
    "    open_json('/media/chrisfoulon/HDD2/final_training_set/abnormal_5fold_segmentation/perf_seg_dict.json'),\n",
    "    open_json('/media/chrisfoulon/HDD2/final_training_set/controls_trained_5fold_segmentation/perf_seg_dict.json'),\n",
    "    open_json('/media/chrisfoulon/HDD2/final_training_set/training_with_controls_gendice_focal_no_biobank_segmentation/perf_seg_dict.json'),\n",
    "    open_json('/media/chrisfoulon/HDD2/final_training_set/control_training_wf_div10_dicefocal/perf_seg_dict.json'),\n",
    "    open_json('/media/chrisfoulon/HDD2/final_training_set/control_training_wf_div1000_dicefocal/perf_seg_dict.json')\n",
    "]\n",
    "\n",
    "mean_dice_dict = {}\n",
    "for k in perf_seg_dict_list[0]:\n",
    "    mean_dice_dict[k] = {}\n",
    "    mean_dice_dict[k]['mean_dice_metric'] = np.mean([d[k]['dice_metric'] for d in perf_seg_dict_list])\n",
    "    mean_dice_dict[k]['mean_distance'] = np.mean([d[k]['distance'] for d in perf_seg_dict_list])\n",
    "    \n",
    "# sort the dict by mean_dice_metric (ascending)\n",
    "mean_dice_dict = {k: v for k, v in sorted(mean_dice_dict.items(), key=lambda item: item[1]['mean_dice_metric'])}\n",
    "    \n",
    "save_json(Path('/media/chrisfoulon/HDD2/final_training_set/', 'mean_dice_dict.json'), mean_dice_dict)"
   ],
   "metadata": {
    "collapsed": false,
    "ExecuteTime": {
     "end_time": "2023-08-25T08:08:46.945131970Z",
     "start_time": "2023-08-25T08:08:46.716884744Z"
    }
   }
  },
  {
   "cell_type": "code",
   "execution_count": null,
   "outputs": [],
   "source": [],
   "metadata": {
    "collapsed": false
   }
  },
  {
   "cell_type": "code",
   "execution_count": 4,
   "outputs": [
    {
     "name": "stdout",
     "output_type": "stream",
     "text": [
      "DTI_P6d_noniso_SENSE_20150731120209_301__pref__\n",
      "0.0\n",
      "0.0\n",
      "DTI_P6d_noniso_SENSE_20180301104234_201__pref__\n",
      "0.0\n",
      "0.0\n",
      "DTI_P6d_noniso_SENSE_20160618125529_201__pref__\n",
      "0.0\n",
      "0.0\n",
      "ep2d_diff_3scan_trace_20070324110557_9__pref__\n",
      "0.0\n",
      "0.0\n",
      "ep2d_diff_3scan_ipat_20141022143252_6__pref__\n",
      "0.0\n",
      "0.0\n",
      "DTI_P6d_noniso_SENSE_20160722100258_201__pref__\n",
      "0.0\n",
      "0.0\n",
      "DTI_P6d_noniso_SENSE_20160711083742_201__pref__\n",
      "0.0\n",
      "0.0\n",
      "DTI_P6d_noniso_20190112135713_201__pref__\n",
      "0.9755767226219177\n",
      "0.0\n",
      "1.3.46.670589.11.38075.5.0.1820.2018040815523831006_20180408155238_201__pref__\n",
      "0.9875420689582824\n",
      "0.0\n",
      "DTI_P6d_noniso_20190315163801_201__pref__\n",
      "0.987842321395874\n",
      "0.0\n",
      "1.2.840.846310145.12.1.1.60286619_20180831163807_201__pref__\n",
      "0.9879709959030152\n",
      "0.0\n",
      "1.2.840.846310145.12.1.1.60317294_20180915142847_201__pref__\n",
      "0.9880144834518433\n",
      "0.0\n",
      "1.2.840.846310145.12.1.1.60692052_20190315163801_201__pref__\n",
      "0.9884455084800721\n",
      "0.0\n",
      "DTI_P6d_noniso_SENSE_20180718155058_201__pref__\n",
      "0.9889434337615967\n",
      "0.0\n",
      "DTI_P6d_noniso_SENSE_20151214153600_301__pref__\n",
      "0.9917016506195069\n",
      "0.0\n",
      "1.3.46.670589.11.38075.5.0.7820.2018061815260958016_20180618152609_201__pref__\n",
      "0.9957446813583374\n",
      "0.0\n",
      "DTI_P6d_noniso_20190203105404_201__pref__\n",
      "0.9962264180183411\n",
      "0.0\n",
      "Reg_-_DTI_medium_iso_SENSE_20150305155046_606__pref__\n",
      "1.0\n",
      "0.0\n",
      "DTI_medium_iso_SENSE_20150305155046_601__pref__\n",
      "1.0\n",
      "0.0\n",
      "DTI_P6d_noniso_SENSE_20180912153503_201__pref__\n",
      "1.0\n",
      "0.0\n"
     ]
    }
   ],
   "source": [
    "mean_dice_dict = open_json('/media/chrisfoulon/HDD2/final_training_set/mean_dice_dict.json')\n",
    "# print all values with mean_distance = 0\n",
    "for k in mean_dice_dict:\n",
    "    if mean_dice_dict[k]['mean_distance'] == 0:\n",
    "        print(k)\n",
    "        print(mean_dice_dict[k]['mean_dice_metric'])\n",
    "        print(mean_dice_dict[k]['mean_distance'])"
   ],
   "metadata": {
    "collapsed": false,
    "ExecuteTime": {
     "end_time": "2023-08-29T10:11:35.738420326Z",
     "start_time": "2023-08-29T10:11:35.653021195Z"
    }
   }
  },
  {
   "cell_type": "code",
   "execution_count": 12,
   "outputs": [
    {
     "name": "stdout",
     "output_type": "stream",
     "text": [
      "DTI_P6d_noniso_SENSE_20151112143421_301__pref__\n",
      "0.04636363759636878\n",
      "2.9771296018981586\n",
      "Fsleyes command: \"fsleyes /media/chrisfoulon/HDD2/final_training_set/cleaned_abnormal_images/non_linear_co-rigid_rigid_geomean_denoise_DTI_P6d_noniso_SENSE_20151112143421_301__pref___bval1000.nii.gz /media/chrisfoulon/HDD2/final_training_set/control_training_wf_div10_dicefocal/fold_2/val_images/empty_prediction/label_non_linear_co-rigid_rigid_geomean_denoise_DTI_P6d_noniso_SENSE_20151112143421_301__pref___bval1000_v0v_71.nii.gz -cm red -a 40 /media/chrisfoulon/HDD2/final_training_set/control_training_wf_div10_dicefocal/fold_2/val_images/empty_prediction/output_non_linear_co-rigid_rigid_geomean_denoise_DTI_P6d_noniso_SENSE_20151112143421_301__pref___bval1000_v0v_71.nii.gz -cm green -a 40\"\n",
      "Error/Warning during fsleyes execution\n",
      "exit status: 0\n",
      "stderr: given by the platformdirs library.  To remove this warning and\n",
      "see the appropriate new directories, set the environment variable\n",
      "`JUPYTER_PLATFORM_DIRS=1` and then run `jupyter --paths`.\n",
      "The use of platformdirs will be the default in `jupyter_core` v6\n",
      "  from jupyter_core.paths import jupyter_data_dir, jupyter_runtime_dir, secure_write\n",
      "\n",
      "DTI_P6d_noniso_SENSE_20170926142705_301__pref__\n",
      "0.10149941295385356\n",
      "1.8545679327339482\n",
      "Fsleyes command: \"fsleyes /media/chrisfoulon/HDD2/final_training_set/cleaned_abnormal_images/non_linear_co-rigid_rigid_geomean_denoise_DTI_P6d_noniso_SENSE_20170926142705_301__pref___bval1000.nii.gz /media/chrisfoulon/HDD2/final_training_set/control_training_wf_div10_dicefocal/fold_2/val_images/R_Long_insular_perforating/label_non_linear_co-rigid_rigid_geomean_denoise_DTI_P6d_noniso_SENSE_20170926142705_301__pref___bval1000_v14v_139.nii.gz -cm red -a 40 /media/chrisfoulon/HDD2/final_training_set/control_training_wf_div10_dicefocal/fold_2/val_images/R_Long_insular_perforating/output_non_linear_co-rigid_rigid_geomean_denoise_DTI_P6d_noniso_SENSE_20170926142705_301__pref___bval1000_v14v_139.nii.gz -cm green -a 40\"\n"
     ]
    },
    {
     "ename": "KeyboardInterrupt",
     "evalue": "",
     "output_type": "error",
     "traceback": [
      "\u001B[0;31m---------------------------------------------------------------------------\u001B[0m",
      "\u001B[0;31mKeyboardInterrupt\u001B[0m                         Traceback (most recent call last)",
      "Cell \u001B[0;32mIn[12], line 17\u001B[0m\n\u001B[1;32m     15\u001B[0m \u001B[38;5;28mprint\u001B[39m(mean_dice_dict[k][\u001B[38;5;124m'\u001B[39m\u001B[38;5;124mmean_distance\u001B[39m\u001B[38;5;124m'\u001B[39m])\n\u001B[1;32m     16\u001B[0m \u001B[38;5;66;03m# display_img(perf_seg_dict_list[-2][k]['b1000'], perf_seg_dict_list[-2][k]['label'], display='fsleyes')\u001B[39;00m\n\u001B[0;32m---> 17\u001B[0m \u001B[43mdisplay_img\u001B[49m\u001B[43m(\u001B[49m\u001B[43mperf_seg_dict_list\u001B[49m\u001B[43m[\u001B[49m\u001B[38;5;241;43m-\u001B[39;49m\u001B[38;5;241;43m2\u001B[39;49m\u001B[43m]\u001B[49m\u001B[43m[\u001B[49m\u001B[43mk\u001B[49m\u001B[43m]\u001B[49m\u001B[43m[\u001B[49m\u001B[38;5;124;43m'\u001B[39;49m\u001B[38;5;124;43mb1000\u001B[39;49m\u001B[38;5;124;43m'\u001B[39;49m\u001B[43m]\u001B[49m\u001B[43m,\u001B[49m\u001B[43m \u001B[49m\u001B[43mperf_seg_dict_list\u001B[49m\u001B[43m[\u001B[49m\u001B[38;5;241;43m-\u001B[39;49m\u001B[38;5;241;43m2\u001B[39;49m\u001B[43m]\u001B[49m\u001B[43m[\u001B[49m\u001B[43mk\u001B[49m\u001B[43m]\u001B[49m\u001B[43m[\u001B[49m\u001B[38;5;124;43m'\u001B[39;49m\u001B[38;5;124;43mlabel\u001B[39;49m\u001B[38;5;124;43m'\u001B[39;49m\u001B[43m]\u001B[49m\u001B[43m,\u001B[49m\u001B[43m \u001B[49m\u001B[43mperf_seg_dict_list\u001B[49m\u001B[43m[\u001B[49m\u001B[38;5;241;43m-\u001B[39;49m\u001B[38;5;241;43m2\u001B[39;49m\u001B[43m]\u001B[49m\u001B[43m[\u001B[49m\u001B[43mk\u001B[49m\u001B[43m]\u001B[49m\u001B[43m[\u001B[49m\u001B[38;5;124;43m'\u001B[39;49m\u001B[38;5;124;43msegmentation\u001B[39;49m\u001B[38;5;124;43m'\u001B[39;49m\u001B[43m]\u001B[49m\u001B[43m,\u001B[49m\u001B[43m \u001B[49m\u001B[43mdisplay\u001B[49m\u001B[38;5;241;43m=\u001B[39;49m\u001B[38;5;124;43m'\u001B[39;49m\u001B[38;5;124;43mfsleyes\u001B[39;49m\u001B[38;5;124;43m'\u001B[39;49m\u001B[43m)\u001B[49m\n",
      "File \u001B[0;32m~/miniconda3/lib/python3.10/site-packages/bcblib/tools/visualisation.py:74\u001B[0m, in \u001B[0;36mdisplay_img\u001B[0;34m(img, over1, over2, display, coord, print_cmd)\u001B[0m\n\u001B[1;32m     71\u001B[0m     \u001B[38;5;28mprint\u001B[39m(\u001B[38;5;124m'\u001B[39m\u001B[38;5;124mFsleyes command: \u001B[39m\u001B[38;5;124m\"\u001B[39m\u001B[38;5;132;01m{}\u001B[39;00m\u001B[38;5;124m\"\u001B[39m\u001B[38;5;124m'\u001B[39m\u001B[38;5;241m.\u001B[39mformat(\u001B[38;5;124m'\u001B[39m\u001B[38;5;124m \u001B[39m\u001B[38;5;124m'\u001B[39m\u001B[38;5;241m.\u001B[39mjoin(fsleyes_command)))\n\u001B[1;32m     72\u001B[0m \u001B[38;5;66;03m# if \"DISPLAY\" not in os.environ:\u001B[39;00m\n\u001B[1;32m     73\u001B[0m \u001B[38;5;66;03m#     os.environ[\"DISPLAY\"] = ':1'\u001B[39;00m\n\u001B[0;32m---> 74\u001B[0m process \u001B[38;5;241m=\u001B[39m \u001B[43msubprocess\u001B[49m\u001B[38;5;241;43m.\u001B[39;49m\u001B[43mrun\u001B[49m\u001B[43m(\u001B[49m\u001B[43mfsleyes_command\u001B[49m\u001B[43m,\u001B[49m\n\u001B[1;32m     75\u001B[0m \u001B[43m                         \u001B[49m\u001B[43mstdout\u001B[49m\u001B[38;5;241;43m=\u001B[39;49m\u001B[43msubprocess\u001B[49m\u001B[38;5;241;43m.\u001B[39;49m\u001B[43mPIPE\u001B[49m\u001B[43m,\u001B[49m\n\u001B[1;32m     76\u001B[0m \u001B[43m                         \u001B[49m\u001B[43mstderr\u001B[49m\u001B[38;5;241;43m=\u001B[39;49m\u001B[43msubprocess\u001B[49m\u001B[38;5;241;43m.\u001B[39;49m\u001B[43mPIPE\u001B[49m\u001B[43m,\u001B[49m\n\u001B[1;32m     77\u001B[0m \u001B[43m                         \u001B[49m\u001B[43muniversal_newlines\u001B[49m\u001B[38;5;241;43m=\u001B[39;49m\u001B[38;5;28;43;01mTrue\u001B[39;49;00m\n\u001B[1;32m     78\u001B[0m \u001B[43m                         \u001B[49m\u001B[43m)\u001B[49m\n\u001B[1;32m     79\u001B[0m \u001B[38;5;28;01mif\u001B[39;00m process\u001B[38;5;241m.\u001B[39mstderr \u001B[38;5;241m!=\u001B[39m \u001B[38;5;124m'\u001B[39m\u001B[38;5;124m'\u001B[39m:\n\u001B[1;32m     80\u001B[0m     \u001B[38;5;28mprint\u001B[39m(\u001B[38;5;124m'\u001B[39m\u001B[38;5;124mError/Warning during fsleyes execution\u001B[39m\u001B[38;5;124m'\u001B[39m)\n",
      "File \u001B[0;32m~/miniconda3/lib/python3.10/subprocess.py:503\u001B[0m, in \u001B[0;36mrun\u001B[0;34m(input, capture_output, timeout, check, *popenargs, **kwargs)\u001B[0m\n\u001B[1;32m    501\u001B[0m \u001B[38;5;28;01mwith\u001B[39;00m Popen(\u001B[38;5;241m*\u001B[39mpopenargs, \u001B[38;5;241m*\u001B[39m\u001B[38;5;241m*\u001B[39mkwargs) \u001B[38;5;28;01mas\u001B[39;00m process:\n\u001B[1;32m    502\u001B[0m     \u001B[38;5;28;01mtry\u001B[39;00m:\n\u001B[0;32m--> 503\u001B[0m         stdout, stderr \u001B[38;5;241m=\u001B[39m \u001B[43mprocess\u001B[49m\u001B[38;5;241;43m.\u001B[39;49m\u001B[43mcommunicate\u001B[49m\u001B[43m(\u001B[49m\u001B[38;5;28;43minput\u001B[39;49m\u001B[43m,\u001B[49m\u001B[43m \u001B[49m\u001B[43mtimeout\u001B[49m\u001B[38;5;241;43m=\u001B[39;49m\u001B[43mtimeout\u001B[49m\u001B[43m)\u001B[49m\n\u001B[1;32m    504\u001B[0m     \u001B[38;5;28;01mexcept\u001B[39;00m TimeoutExpired \u001B[38;5;28;01mas\u001B[39;00m exc:\n\u001B[1;32m    505\u001B[0m         process\u001B[38;5;241m.\u001B[39mkill()\n",
      "File \u001B[0;32m~/miniconda3/lib/python3.10/subprocess.py:1149\u001B[0m, in \u001B[0;36mPopen.communicate\u001B[0;34m(self, input, timeout)\u001B[0m\n\u001B[1;32m   1146\u001B[0m     endtime \u001B[38;5;241m=\u001B[39m \u001B[38;5;28;01mNone\u001B[39;00m\n\u001B[1;32m   1148\u001B[0m \u001B[38;5;28;01mtry\u001B[39;00m:\n\u001B[0;32m-> 1149\u001B[0m     stdout, stderr \u001B[38;5;241m=\u001B[39m \u001B[38;5;28;43mself\u001B[39;49m\u001B[38;5;241;43m.\u001B[39;49m\u001B[43m_communicate\u001B[49m\u001B[43m(\u001B[49m\u001B[38;5;28;43minput\u001B[39;49m\u001B[43m,\u001B[49m\u001B[43m \u001B[49m\u001B[43mendtime\u001B[49m\u001B[43m,\u001B[49m\u001B[43m \u001B[49m\u001B[43mtimeout\u001B[49m\u001B[43m)\u001B[49m\n\u001B[1;32m   1150\u001B[0m \u001B[38;5;28;01mexcept\u001B[39;00m \u001B[38;5;167;01mKeyboardInterrupt\u001B[39;00m:\n\u001B[1;32m   1151\u001B[0m     \u001B[38;5;66;03m# https://bugs.python.org/issue25942\u001B[39;00m\n\u001B[1;32m   1152\u001B[0m     \u001B[38;5;66;03m# See the detailed comment in .wait().\u001B[39;00m\n\u001B[1;32m   1153\u001B[0m     \u001B[38;5;28;01mif\u001B[39;00m timeout \u001B[38;5;129;01mis\u001B[39;00m \u001B[38;5;129;01mnot\u001B[39;00m \u001B[38;5;28;01mNone\u001B[39;00m:\n",
      "File \u001B[0;32m~/miniconda3/lib/python3.10/subprocess.py:2000\u001B[0m, in \u001B[0;36mPopen._communicate\u001B[0;34m(self, input, endtime, orig_timeout)\u001B[0m\n\u001B[1;32m   1993\u001B[0m     \u001B[38;5;28mself\u001B[39m\u001B[38;5;241m.\u001B[39m_check_timeout(endtime, orig_timeout,\n\u001B[1;32m   1994\u001B[0m                         stdout, stderr,\n\u001B[1;32m   1995\u001B[0m                         skip_check_and_raise\u001B[38;5;241m=\u001B[39m\u001B[38;5;28;01mTrue\u001B[39;00m)\n\u001B[1;32m   1996\u001B[0m     \u001B[38;5;28;01mraise\u001B[39;00m \u001B[38;5;167;01mRuntimeError\u001B[39;00m(  \u001B[38;5;66;03m# Impossible :)\u001B[39;00m\n\u001B[1;32m   1997\u001B[0m         \u001B[38;5;124m'\u001B[39m\u001B[38;5;124m_check_timeout(..., skip_check_and_raise=True) \u001B[39m\u001B[38;5;124m'\u001B[39m\n\u001B[1;32m   1998\u001B[0m         \u001B[38;5;124m'\u001B[39m\u001B[38;5;124mfailed to raise TimeoutExpired.\u001B[39m\u001B[38;5;124m'\u001B[39m)\n\u001B[0;32m-> 2000\u001B[0m ready \u001B[38;5;241m=\u001B[39m \u001B[43mselector\u001B[49m\u001B[38;5;241;43m.\u001B[39;49m\u001B[43mselect\u001B[49m\u001B[43m(\u001B[49m\u001B[43mtimeout\u001B[49m\u001B[43m)\u001B[49m\n\u001B[1;32m   2001\u001B[0m \u001B[38;5;28mself\u001B[39m\u001B[38;5;241m.\u001B[39m_check_timeout(endtime, orig_timeout, stdout, stderr)\n\u001B[1;32m   2003\u001B[0m \u001B[38;5;66;03m# XXX Rewrite these to use non-blocking I/O on the file\u001B[39;00m\n\u001B[1;32m   2004\u001B[0m \u001B[38;5;66;03m# objects; they are no longer using C stdio!\u001B[39;00m\n",
      "File \u001B[0;32m~/miniconda3/lib/python3.10/selectors.py:416\u001B[0m, in \u001B[0;36m_PollLikeSelector.select\u001B[0;34m(self, timeout)\u001B[0m\n\u001B[1;32m    414\u001B[0m ready \u001B[38;5;241m=\u001B[39m []\n\u001B[1;32m    415\u001B[0m \u001B[38;5;28;01mtry\u001B[39;00m:\n\u001B[0;32m--> 416\u001B[0m     fd_event_list \u001B[38;5;241m=\u001B[39m \u001B[38;5;28;43mself\u001B[39;49m\u001B[38;5;241;43m.\u001B[39;49m\u001B[43m_selector\u001B[49m\u001B[38;5;241;43m.\u001B[39;49m\u001B[43mpoll\u001B[49m\u001B[43m(\u001B[49m\u001B[43mtimeout\u001B[49m\u001B[43m)\u001B[49m\n\u001B[1;32m    417\u001B[0m \u001B[38;5;28;01mexcept\u001B[39;00m \u001B[38;5;167;01mInterruptedError\u001B[39;00m:\n\u001B[1;32m    418\u001B[0m     \u001B[38;5;28;01mreturn\u001B[39;00m ready\n",
      "\u001B[0;31mKeyboardInterrupt\u001B[0m: "
     ]
    }
   ],
   "source": [
    "from bcblib.tools.visualisation import display_img\n",
    "\n",
    "perf_seg_dict_list = [\n",
    "    open_json('/media/chrisfoulon/HDD2/final_training_set/abnormal_5fold_segmentation/perf_seg_dict.json'),\n",
    "    open_json('/media/chrisfoulon/HDD2/final_training_set/controls_trained_5fold_segmentation/perf_seg_dict.json'),\n",
    "    open_json('/media/chrisfoulon/HDD2/final_training_set/training_with_controls_gendice_focal_no_biobank_segmentation/perf_seg_dict.json'),\n",
    "    open_json('/media/chrisfoulon/HDD2/final_training_set/control_training_wf_div10_dicefocal/perf_seg_dict.json'),\n",
    "    open_json('/media/chrisfoulon/HDD2/final_training_set/control_training_wf_div1000_dicefocal/perf_seg_dict.json')\n",
    "]\n",
    "# For every image with a mean_dice_metric <= 0, display perf_seg_dict_list[-2][k]['b1000'] with display_img\n",
    "for k in mean_dice_dict:\n",
    "    if 0.01 < mean_dice_dict[k]['mean_dice_metric'] <= 0.2 and 0.5 < mean_dice_dict[k]['mean_distance'] < 3:\n",
    "        print(k)\n",
    "        print(mean_dice_dict[k]['mean_dice_metric'])\n",
    "        print(mean_dice_dict[k]['mean_distance'])\n",
    "        # display_img(perf_seg_dict_list[-2][k]['b1000'], perf_seg_dict_list[-2][k]['label'], display='fsleyes')\n",
    "        display_img(perf_seg_dict_list[-2][k]['b1000'], perf_seg_dict_list[-2][k]['label'], perf_seg_dict_list[-2][k]['segmentation'], display='fsleyes')"
   ],
   "metadata": {
    "collapsed": false,
    "ExecuteTime": {
     "end_time": "2023-08-29T11:44:53.681112249Z",
     "start_time": "2023-08-29T10:25:55.723885829Z"
    }
   }
  },
  {
   "cell_type": "code",
   "execution_count": 12,
   "outputs": [
    {
     "data": {
      "text/plain": "<Figure size 640x480 with 1 Axes>",
      "image/png": "[encoded data removed]"
     },
     "metadata": {},
     "output_type": "display_data"
    }
   ],
   "source": [
    "# plot the distribution of the mean_dice_metric\n",
    "import matplotlib.pyplot as plt\n",
    "plt.hist([mean_dice_dict[k]['mean_dice_metric'] for k in mean_dice_dict], bins=50)\n",
    "plt.show()"
   ],
   "metadata": {
    "collapsed": false,
    "ExecuteTime": {
     "end_time": "2023-08-25T14:25:13.817813266Z",
     "start_time": "2023-08-25T14:25:13.510686071Z"
    }
   }
  },
  {
   "cell_type": "code",
   "execution_count": null,
   "outputs": [],
   "source": [
    "perf_seg_dict_list = [\n",
    "    open_json('/media/chrisfoulon/HDD2/final_training_set/abnormal_5fold_segmentation/perf_seg_dict.json'),\n",
    "    open_json('/media/chrisfoulon/HDD2/final_training_set/controls_trained_5fold_segmentation/perf_seg_dict.json'),\n",
    "    open_json('/media/chrisfoulon/HDD2/final_training_set/training_with_controls_gendice_focal_no_biobank_segmentation/perf_seg_dict.json'),\n",
    "    open_json('/media/chrisfoulon/HDD2/final_training_set/control_training_wf_div10_dicefocal/perf_seg_dict.json'),\n",
    "    open_json('/media/chrisfoulon/HDD2/final_training_set/control_training_wf_div1000_dicefocal/perf_seg_dict.json')\n",
    "]\n",
    "\n",
    "perf_seg_dict_parent_folder_name_list = [\n",
    "    'abnormal_5fold_segmentation',\n",
    "    'controls_trained_5fold_segmentation',\n",
    "    'training_with_controls_gendice_focal_no_biobank_segmentation',\n",
    "    'control_training_wf_div10_dicefocal',\n",
    "    'control_training_wf_div1000_dicefocal'\n",
    "]\n",
    "\n",
    "# display the distribution of the dice_metric for each dataset related to the volume of the lesion and compute the correlation between the two on each plot \n",
    "from scipy.stats import pearsonr\n",
    "# make plots taller and larger\n",
    "plt.rcParams['figure.figsize'] = [20, 15]\n",
    "for i, perf_seg_dict in enumerate(perf_seg_dict_list):\n",
    "    # print(perf_seg_dict_parent_folder_name_list[i])\n",
    "    plt.scatter([perf_seg_dict[k]['volume'] for k in perf_seg_dict], [perf_seg_dict[k]['dice_metric'] for k in perf_seg_dict])\n",
    "    corr = pearsonr([perf_seg_dict[k]['volume'] for k in perf_seg_dict], [perf_seg_dict[k]['dice_metric'] for k in perf_seg_dict])\n",
    "    plt.title(f'{perf_seg_dict_parent_folder_name_list[i]} / corr: {corr[0]:.2f}')\n",
    "    plt.show()\n",
    "    print(corr)"
   ],
   "metadata": {
    "collapsed": false
   }
  },
  {
   "cell_type": "code",
   "execution_count": 18,
   "outputs": [
    {
     "data": {
      "text/plain": "<Figure size 640x480 with 1 Axes>",
      "image/png": "[encoded data removed]"
     },
     "metadata": {},
     "output_type": "display_data"
    },
    {
     "name": "stdout",
     "output_type": "stream",
     "text": [
      "PearsonRResult(statistic=-0.07214794158358694, pvalue=1.627528355889108e-05)\n"
     ]
    }
   ],
   "source": [
    "# do the same but for the label size from b1000_label_dict and the mean_dice_metric from the mean_dice_dict\n",
    "b1000_label_dict = open_json('/media/chrisfoulon/HDD2/final_training_set/cleaned_abnormal_b1000_info_dict_label_size.json')\n",
    "plt.scatter([b1000_label_dict[k]['label_size'] for k in b1000_label_dict], [mean_dice_dict[k]['mean_dice_metric'] for k in mean_dice_dict])\n",
    "corr = pearsonr([b1000_label_dict[k]['label_size'] for k in b1000_label_dict], [mean_dice_dict[k]['mean_dice_metric'] for k in mean_dice_dict])\n",
    "plt.title(f'corr: {corr[0]:.2f}')\n",
    "plt.show()\n",
    "print(corr)\n"
   ],
   "metadata": {
    "collapsed": false,
    "ExecuteTime": {
     "end_time": "2023-08-25T15:40:07.895965861Z",
     "start_time": "2023-08-25T15:40:07.656116605Z"
    }
   }
  },
  {
   "cell_type": "code",
   "execution_count": 22,
   "outputs": [
    {
     "data": {
      "text/plain": "<Figure size 640x480 with 1 Axes>",
      "image/png": "[encoded data removed]"
     },
     "metadata": {},
     "output_type": "display_data"
    }
   ],
   "source": [
    "# plot lesion volume function of distance_ratio and display the correlation\n",
    "from matplotlib import pyplot as plt\n",
    "from scipy.stats import pearsonr\n",
    "# '/media/chrisfoulon/HDD2/final_training_set/abnormal_5fold_segmentation/perf_seg_dict_with_distance_ratio.json'\n",
    "perf_seg_dict = open_json('/media/chrisfoulon/HDD2/final_training_set/abnormal_5fold_segmentation/perf_seg_dict_with_distance_ratio.json')\n",
    "plt.scatter([perf_seg_dict[k]['volume'] for k in perf_seg_dict], [perf_seg_dict[k]['dice_dist_ratio'] for k in perf_seg_dict])\n",
    "corr = pearsonr([perf_seg_dict[k]['volume'] for k in perf_seg_dict], [perf_seg_dict[k]['dice_dist_ratio'] for k in perf_seg_dict])\n",
    "plt.title(f'corr: {corr[0]:.2f}')\n",
    "plt.show()"
   ],
   "metadata": {
    "collapsed": false,
    "ExecuteTime": {
     "end_time": "2023-08-30T14:33:03.017035650Z",
     "start_time": "2023-08-30T14:33:02.750634554Z"
    }
   }
  },
  {
   "cell_type": "code",
   "execution_count": 42,
   "outputs": [
    {
     "name": "stderr",
     "output_type": "stream",
     "text": [
      "  4%|▍         | 154/3563 [00:04<01:21, 41.85it/s]/home/chrisfoulon/miniconda3/lib/python3.10/site-packages/monai/metrics/hausdorff_distance.py:193: UserWarning: the prediction of class 0 is all 0, this may result in nan/inf distance.\n",
      "  warnings.warn(f\"the prediction of class {c} is all 0, this may result in nan/inf distance.\")\n",
      "/home/chrisfoulon/miniconda3/lib/python3.10/site-packages/numpy/lib/function_base.py:4655: RuntimeWarning: invalid value encountered in subtract\n",
      "  diff_b_a = subtract(b, a)\n",
      "100%|██████████| 3563/3563 [01:30<00:00, 39.40it/s]\n"
     ]
    }
   ],
   "source": [
    "from lesseg_unet.loss_and_metric import distance_ratio_volume\n",
    "\n",
    "def perf_seg_dict_add_distance_ratio(perf_seg_dict_path, output_path):\n",
    "    perf_seg_dict = open_json(perf_seg_dict_path)\n",
    "    for k in tqdm(perf_seg_dict):\n",
    "        # add the distance_ratio to the perf_seg_dict and then add the average of dice_metric and distance_ratio to the dice_dist_ratio \n",
    "        perf_seg_dict[k]['distance_ratio'] = distance_ratio_nifti(perf_seg_dict[k]['label'], perf_seg_dict[k]['segmentation'])\n",
    "        perf_seg_dict[k]['dice_dist_ratio'] = (perf_seg_dict[k]['dice_metric'] + perf_seg_dict[k]['distance_ratio']) / 2\n",
    "    # sort the dict by dice_dist_ratio (ascending)\n",
    "    perf_seg_dict = {k: v for k, v in sorted(perf_seg_dict.items(), key=lambda item: item[1]['dice_dist_ratio'])}\n",
    "    # save the perf_seg_dict\n",
    "    save_json(output_path, perf_seg_dict)\n",
    "\n",
    "perf_seg_dict_list = [\n",
    "    # '/media/chrisfoulon/HDD2/final_training_set/abnormal_5fold_segmentation/perf_seg_dict.json',\n",
    "    # '/media/chrisfoulon/HDD2/final_training_set/controls_trained_5fold_segmentation/perf_seg_dict.json',\n",
    "    # '/media/chrisfoulon/HDD2/final_training_set/training_with_controls_gendice_focal_no_biobank_segmentation/perf_seg_dict.json',\n",
    "    # '/media/chrisfoulon/HDD2/final_training_set/control_training_wf_div10_dicefocal/perf_seg_dict.json',\n",
    "    # '/media/chrisfoulon/HDD2/final_training_set/control_training_wf_div1000_dicefocal/perf_seg_dict.json',\n",
    "    '/media/chrisfoulon/HDD2/final_training_set/abnormal_segmentation_dice_focal/perf_seg_dict.json'\n",
    "]\n",
    "\n",
    "# run perf_seg_dict_add_distance_ratio on each perf_seg_dict\n",
    "for perf_seg_dict in perf_seg_dict_list:\n",
    "    perf_seg_dict_add_distance_ratio(perf_seg_dict, perf_seg_dict.replace('.json', '_with_distance_ratio.json'))"
   ],
   "metadata": {
    "collapsed": false,
    "ExecuteTime": {
     "end_time": "2023-09-04T15:01:01.546960429Z",
     "start_time": "2023-09-04T14:59:30.849949586Z"
    }
   }
  },
  {
   "cell_type": "code",
   "execution_count": 43,
   "outputs": [
    {
     "name": "stdout",
     "output_type": "stream",
     "text": [
      "abnormal_5fold_segmentation\n",
      "0.8767417732227846 3.0536868960945602 0.9798508924589319 0.9282963328408582 1287.0550098231827 \n",
      "controls_trained_5fold_segmentation\n",
      "0.8653619464540683 3.1977899177640716 0.9751108413831678 0.9202363939186182 1289.110861633455 \n",
      "training_with_controls_gendice_focal_no_biobank_segmentation\n",
      "0.8640696352581412 3.1693777748993397 0.976810409699441 0.9204400224787913 1266.066797642436 \n",
      "control_training_wf_div10_dicefocal\n",
      "0.8700511560548194 3.0248708811432015 0.9786163353959315 0.9243337457253755 1286.9980353634578 \n",
      "abnormal_segmentation_dice_focal\n"
     ]
    },
    {
     "ename": "NotADirectoryError",
     "evalue": "[Errno 20] Not a directory: '/media/chrisfoulon/HDD2/final_training_set/control_training_wf_div1000_dicefocal/perf_seg_dict_with_distance_ratio.json/media/chrisfoulon/HDD2/final_training_set/abnormal_segmentation_dice_focal/perf_seg_dict_with_distance_ratio.json'",
     "output_type": "error",
     "traceback": [
      "\u001B[0;31m---------------------------------------------------------------------------\u001B[0m",
      "\u001B[0;31mNotADirectoryError\u001B[0m                        Traceback (most recent call last)",
      "Cell \u001B[0;32mIn[43], line 26\u001B[0m\n\u001B[1;32m     24\u001B[0m \u001B[38;5;28;01mfor\u001B[39;00m perf_seg_dict \u001B[38;5;129;01min\u001B[39;00m perf_seg_dict_with_distance_ratio_list:\n\u001B[1;32m     25\u001B[0m     \u001B[38;5;28mprint\u001B[39m(Path(perf_seg_dict)\u001B[38;5;241m.\u001B[39mparent\u001B[38;5;241m.\u001B[39mname)\n\u001B[0;32m---> 26\u001B[0m     perf_seg_dict \u001B[38;5;241m=\u001B[39m \u001B[43mopen_json\u001B[49m\u001B[43m(\u001B[49m\u001B[43mperf_seg_dict\u001B[49m\u001B[43m)\u001B[49m\n\u001B[1;32m     27\u001B[0m     \u001B[38;5;28mprint\u001B[39m(np\u001B[38;5;241m.\u001B[39mmean([perf_seg_dict[k][\u001B[38;5;124m'\u001B[39m\u001B[38;5;124mdice_metric\u001B[39m\u001B[38;5;124m'\u001B[39m] \u001B[38;5;28;01mfor\u001B[39;00m k \u001B[38;5;129;01min\u001B[39;00m perf_seg_dict]), end\u001B[38;5;241m=\u001B[39m\u001B[38;5;124m'\u001B[39m\u001B[38;5;124m \u001B[39m\u001B[38;5;124m'\u001B[39m)\n\u001B[1;32m     28\u001B[0m     \u001B[38;5;28mprint\u001B[39m(np\u001B[38;5;241m.\u001B[39mmean([perf_seg_dict[k][\u001B[38;5;124m'\u001B[39m\u001B[38;5;124mdistance\u001B[39m\u001B[38;5;124m'\u001B[39m] \u001B[38;5;28;01mfor\u001B[39;00m k \u001B[38;5;129;01min\u001B[39;00m perf_seg_dict]), end\u001B[38;5;241m=\u001B[39m\u001B[38;5;124m'\u001B[39m\u001B[38;5;124m \u001B[39m\u001B[38;5;124m'\u001B[39m)\n",
      "File \u001B[0;32m~/miniconda3/lib/python3.10/site-packages/bcblib/tools/general_utils.py:8\u001B[0m, in \u001B[0;36mopen_json\u001B[0;34m(path)\u001B[0m\n\u001B[1;32m      7\u001B[0m \u001B[38;5;28;01mdef\u001B[39;00m \u001B[38;5;21mopen_json\u001B[39m(path):\n\u001B[0;32m----> 8\u001B[0m     \u001B[38;5;28;01mwith\u001B[39;00m \u001B[38;5;28;43mopen\u001B[39;49m\u001B[43m(\u001B[49m\u001B[43mpath\u001B[49m\u001B[43m,\u001B[49m\u001B[43m \u001B[49m\u001B[38;5;124;43m'\u001B[39;49m\u001B[38;5;124;43mr\u001B[39;49m\u001B[38;5;124;43m'\u001B[39;49m\u001B[43m)\u001B[49m \u001B[38;5;28;01mas\u001B[39;00m j:\n\u001B[1;32m      9\u001B[0m         \u001B[38;5;28;01mreturn\u001B[39;00m json\u001B[38;5;241m.\u001B[39mload(j)\n",
      "\u001B[0;31mNotADirectoryError\u001B[0m: [Errno 20] Not a directory: '/media/chrisfoulon/HDD2/final_training_set/control_training_wf_div1000_dicefocal/perf_seg_dict_with_distance_ratio.json/media/chrisfoulon/HDD2/final_training_set/abnormal_segmentation_dice_focal/perf_seg_dict_with_distance_ratio.json'"
     ]
    }
   ],
   "source": [
    "# list paths of _with_distance_ratio perf_seg_dict\n",
    "perf_seg_dict_with_distance_ratio_list = [\n",
    "    '/media/chrisfoulon/HDD2/final_training_set/abnormal_5fold_segmentation/perf_seg_dict_with_distance_ratio.json',\n",
    "    '/media/chrisfoulon/HDD2/final_training_set/controls_trained_5fold_segmentation/perf_seg_dict_with_distance_ratio.json',\n",
    "    '/media/chrisfoulon/HDD2/final_training_set/training_with_controls_gendice_focal_no_biobank_segmentation/perf_seg_dict_with_distance_ratio.json',\n",
    "    '/media/chrisfoulon/HDD2/final_training_set/control_training_wf_div10_dicefocal/perf_seg_dict_with_distance_ratio.json',\n",
    "    '/media/chrisfoulon/HDD2/final_training_set/control_training_wf_div1000_dicefocal/perf_seg_dict_with_distance_ratio.json'\n",
    "    '/media/chrisfoulon/HDD2/final_training_set/abnormal_segmentation_dice_focal/perf_seg_dict_with_distance_ratio.json'\n",
    "]\n",
    "\n",
    "# load each of them and print the name of the file and the mean of all the dice_metric, distance, distance_ratio and dice_dist_ratio and volume (all the keys in the dict)\n",
    "# for perf_seg_dict in perf_seg_dict_with_distance_ratio_list:\n",
    "#     print(Path(perf_seg_dict).name)\n",
    "#     perf_seg_dict = open_json(perf_seg_dict)\n",
    "#     print(np.mean([perf_seg_dict[k]['dice_metric'] for k in perf_seg_dict]))\n",
    "#     print(np.mean([perf_seg_dict[k]['distance'] for k in perf_seg_dict]))\n",
    "#     print(np.mean([perf_seg_dict[k]['distance_ratio'] for k in perf_seg_dict]))\n",
    "#     print(np.mean([perf_seg_dict[k]['dice_dist_ratio'] for k in perf_seg_dict]))\n",
    "#     print(np.mean([perf_seg_dict[k]['volume'] for k in perf_seg_dict]))\n",
    "#     print()\n",
    "    \n",
    "# instead the values should be displayed next to each other (one line per perf_seg_dict)\n",
    "\n",
    "for perf_seg_dict in perf_seg_dict_with_distance_ratio_list:\n",
    "    print(Path(perf_seg_dict).parent.name)\n",
    "    perf_seg_dict = open_json(perf_seg_dict)\n",
    "    print(np.mean([perf_seg_dict[k]['dice_metric'] for k in perf_seg_dict]), end=' ')\n",
    "    print(np.mean([perf_seg_dict[k]['distance'] for k in perf_seg_dict]), end=' ')\n",
    "    print(np.mean([perf_seg_dict[k]['distance_ratio'] for k in perf_seg_dict]), end=' ')\n",
    "    print(np.mean([perf_seg_dict[k]['dice_dist_ratio'] for k in perf_seg_dict]), end=' ')\n",
    "    print(np.mean([perf_seg_dict[k]['volume'] for k in perf_seg_dict]), end=' ')\n",
    "    print()\n",
    "    "
   ],
   "metadata": {
    "collapsed": false,
    "ExecuteTime": {
     "end_time": "2023-09-04T15:12:01.959661756Z",
     "start_time": "2023-09-04T15:12:01.823929573Z"
    }
   }
  },
  {
   "cell_type": "code",
   "execution_count": 32,
   "outputs": [
    {
     "name": "stdout",
     "output_type": "stream",
     "text": [
      "abnormal_5fold_segmentation\n"
     ]
    },
    {
     "name": "stderr",
     "output_type": "stream",
     "text": [
      "100%|██████████| 3563/3563 [01:58<00:00, 30.02it/s]\n"
     ]
    },
    {
     "name": "stdout",
     "output_type": "stream",
     "text": [
      "controls_trained_5fold_segmentation\n"
     ]
    },
    {
     "name": "stderr",
     "output_type": "stream",
     "text": [
      "100%|██████████| 3563/3563 [01:11<00:00, 49.81it/s]\n"
     ]
    },
    {
     "name": "stdout",
     "output_type": "stream",
     "text": [
      "training_with_controls_gendice_focal_no_biobank_segmentation\n"
     ]
    },
    {
     "name": "stderr",
     "output_type": "stream",
     "text": [
      "100%|██████████| 3563/3563 [01:12<00:00, 49.46it/s]\n"
     ]
    },
    {
     "name": "stdout",
     "output_type": "stream",
     "text": [
      "control_training_wf_div10_dicefocal\n"
     ]
    },
    {
     "name": "stderr",
     "output_type": "stream",
     "text": [
      "100%|██████████| 3563/3563 [02:12<00:00, 26.95it/s]\n"
     ]
    },
    {
     "name": "stdout",
     "output_type": "stream",
     "text": [
      "control_training_wf_div1000_dicefocal\n"
     ]
    },
    {
     "name": "stderr",
     "output_type": "stream",
     "text": [
      "100%|██████████| 3563/3563 [01:56<00:00, 30.55it/s]\n"
     ]
    }
   ],
   "source": [
    "from lesseg_unet.visualisation_utils import perf_dataset_overlap_from_json\n",
    "\n",
    "# \n",
    "# nib.save(abn_overlap, '/media/chrisfoulon/HDD2/final_training_set/test_abnormal_gen_dice_focal_training/fold_0_abnormal_validation/val_perf_overlap.nii.gz')\n",
    "\n",
    "# Compute the weighted overlap between the segmentation and the label for each image in the perf_seg_dict of the perf_seg_dict_with_distance_ratio_list\n",
    "for perf_seg_dict_path in perf_seg_dict_with_distance_ratio_list:\n",
    "    print(Path(perf_seg_dict_path).parent.name)\n",
    "    perf_seg_dict = open_json(perf_seg_dict_path)\n",
    "    overlap = perf_dataset_overlap_from_json(perf_seg_dict, 'segmentation', perf_key='dice_dist_ratio', non_zero_only=True)\n",
    "    nib.save(overlap, Path(Path(perf_seg_dict_path).parent, 'dice_dist_ratio_overlap.nii.gz'))\n",
    "\n",
    "\n"
   ],
   "metadata": {
    "collapsed": false,
    "ExecuteTime": {
     "end_time": "2023-08-30T16:16:46.894041428Z",
     "start_time": "2023-08-30T15:53:19.746102384Z"
    }
   }
  },
  {
   "cell_type": "code",
   "execution_count": 58,
   "outputs": [
    {
     "name": "stdout",
     "output_type": "stream",
     "text": [
      "6346\n",
      "6346\n",
      "6346\n"
     ]
    },
    {
     "name": "stderr",
     "output_type": "stream",
     "text": [
      "100%|██████████| 6346/6346 [06:19<00:00, 16.73it/s]\n"
     ]
    }
   ],
   "source": [
    "# load /media/chrisfoulon/DATA1/a_imagepool_mr/ischaemic_stroke_seg_latest/unified_info_manual_check_dict_PatientAge_fixed.json\n",
    "info_dict = open_json('/media/chrisfoulon/DATA1/a_imagepool_mr/ischaemic_stroke_seg_latest/unified_info_manual_check_dict_PatientAge_fixed.json')\n",
    "print(len(info_dict))\n",
    "seg_folder = '/media/chrisfoulon/DATA1/a_imagepool_mr/ischaemic_stroke_seg_latest/segmentation_new_control_trained_model'\n",
    "input_list = [str(p) for p in Path(seg_folder).glob('**/input*.nii.gz')]\n",
    "print(len(input_list))\n",
    "output_list = [str(p) for p in Path(seg_folder).glob('**/output*.nii.gz')]\n",
    "print(len(output_list))\n",
    "for k in tqdm(info_dict):\n",
    "    # try to match each info_dict[k]['b1000'] (replace 'input_' and 'output_' by '' and take .split('_v')[0]) \n",
    "    # name_to_match = info_dict[k]['b1000'].replace('input_', '').replace('output_', '').split('_v')[0].split('__pref__')[0]\n",
    "    name_to_match = k\n",
    "    input_match = [i for i in input_list if name_to_match in Path(i).name]\n",
    "    output_match = [o for o in output_list if name_to_match in Path(o).name]\n",
    "    # if len of either is 0 or > 1, print the name_to_match and the len of the matches and exit\n",
    "    if len(input_match) != 1 or len(output_match) != 1:\n",
    "        \"\"\"\n",
    "        v = Path(info_dict[k]['b1000']).name.replace('input_', '').replace('output_', '').split('_v')[0].split('__pref__')[0]\n",
    "        print(v)\n",
    "        # is v in any name of input_list\n",
    "        print([vv for vv in input_list if v in Path(vv).name])\n",
    "        \"\"\"\n",
    "        name_to_match = Path(info_dict[k]['b1000']).name.replace('input_', '').replace('output_', '').split('_v')[0].split('__pref__')[0]\n",
    "        input_match = [i for i in input_list if name_to_match in Path(i).name]\n",
    "        output_match = [o for o in output_list if name_to_match in Path(o).name]\n",
    "        if len(input_match) != 1 or len(output_match) != 1:\n",
    "            print(k)\n",
    "            print(name_to_match)\n",
    "            print(len(input_match))\n",
    "            print(len(output_match))\n",
    "            print()\n",
    "            # exit()\n",
    "        else:\n",
    "            # else, add the input_match and output_match to info_dict[k]\n",
    "            info_dict[k]['b1000'] = str(input_match[0])\n",
    "            info_dict[k]['segmentation'] = str(output_match[0])\n",
    "    else:\n",
    "        # else, add the input_match and output_match to info_dict[k]\n",
    "        info_dict[k]['b1000'] = str(input_match[0])\n",
    "        info_dict[k]['segmentation'] = str(output_match[0])\n",
    "# save the info_dict\n",
    "save_json('/media/chrisfoulon/DATA1/a_imagepool_mr/ischaemic_stroke_seg_latest/unified_info_manual_check_dict_segmentation_new_control_trained_model.json', info_dict)"
   ],
   "metadata": {
    "collapsed": false,
    "ExecuteTime": {
     "end_time": "2023-09-06T11:37:24.657069416Z",
     "start_time": "2023-09-06T11:31:03.169484954Z"
    }
   }
  },
  {
   "cell_type": "code",
   "execution_count": 227,
   "outputs": [
    {
     "name": "stdout",
     "output_type": "stream",
     "text": [
      "Found 5 val_perf_individual_measures.csv files\n",
      "Found 3563 output_*.nii files\n",
      "Found 3563 rows in total in the val_perf_individual_measures.csv files\n",
      "Unique labels in keys_struct: 3563\n",
      "Unique keys in keys_struct: 3563\n"
     ]
    },
    {
     "name": "stderr",
     "output_type": "stream",
     "text": [
      "3563 output files, 3563 keys: : 3563it [01:21, 43.46it/s]\n"
     ]
    },
    {
     "name": "stdout",
     "output_type": "stream",
     "text": [
      "Found 3563 keys\n",
      "Found 3563 output files\n",
      "Unique keys matched: 3563\n",
      "Unique output files matched: 3563\n",
      "Unique keys in val_perf_df: 3563\n",
      "Unique labels in val_perf_df: 3563\n",
      "Unique segmentations in val_perf_df: 3563\n",
      "Unique core_filenames in val_perf_df: 3563\n",
      "Found 5 val_perf_individual_measures.csv files\n",
      "Found 3563 output_*.nii files\n",
      "Found 3563 rows in total in the val_perf_individual_measures.csv files\n",
      "Unique labels in keys_struct: 3563\n",
      "Unique keys in keys_struct: 3563\n"
     ]
    },
    {
     "name": "stderr",
     "output_type": "stream",
     "text": [
      "3563 output files, 3563 keys: : 3563it [01:22, 43.17it/s]\n"
     ]
    },
    {
     "name": "stdout",
     "output_type": "stream",
     "text": [
      "Found 3563 keys\n",
      "Found 3563 output files\n",
      "Unique keys matched: 3563\n",
      "Unique output files matched: 3563\n",
      "Unique keys in val_perf_df: 3563\n",
      "Unique labels in val_perf_df: 3563\n",
      "Unique segmentations in val_perf_df: 3563\n",
      "Unique core_filenames in val_perf_df: 3563\n",
      "Found 5 val_perf_individual_measures.csv files\n",
      "Found 3563 output_*.nii files\n",
      "Found 3563 rows in total in the val_perf_individual_measures.csv files\n",
      "Unique labels in keys_struct: 3563\n",
      "Unique keys in keys_struct: 3563\n"
     ]
    },
    {
     "name": "stderr",
     "output_type": "stream",
     "text": [
      "3563 output files, 3563 keys: : 3563it [01:22, 43.06it/s]\n"
     ]
    },
    {
     "name": "stdout",
     "output_type": "stream",
     "text": [
      "Found 3563 keys\n",
      "Found 3563 output files\n",
      "Unique keys matched: 3563\n",
      "Unique output files matched: 3563\n",
      "Unique keys in val_perf_df: 3563\n",
      "Unique labels in val_perf_df: 3563\n",
      "Unique segmentations in val_perf_df: 3563\n",
      "Unique core_filenames in val_perf_df: 3563\n"
     ]
    }
   ],
   "source": [
    "from lesseg_unet.utils import create_perf_df_from_folds_root\n",
    "\n",
    "info_dict = open_json('/media/chrisfoulon/HDD2/final_training_set/cleaned_abnormal_b1000_info_dict_label_size.json')\n",
    "\n",
    "div1000_folder = '/media/chrisfoulon/HDD2/final_training_set/control_training_wf_div1000_dicefocal'\n",
    "abnormal_folder = '/media/chrisfoulon/HDD2/final_training_set/abnormal_segmentation_dice_focal'\n",
    "unet_folder = '/media/chrisfoulon/HDD2/final_training_set/abnormal_training_no_augs_unet'\n",
    "\n",
    "div1000_minus_abnormal_output_folder = '/media/chrisfoulon/HDD2/final_training_set/div1000_minus_abnormal'\n",
    "os.makedirs(div1000_minus_abnormal_output_folder, exist_ok=True)\n",
    "div1000_minus_unet_output_folder = '/media/chrisfoulon/HDD2/final_training_set/div1000_minus_unet'\n",
    "os.makedirs(div1000_minus_unet_output_folder, exist_ok=True)\n",
    "\n",
    "div1000_perf_df = create_perf_df_from_folds_root(div1000_folder, info_dict)\n",
    "# save the div1000_perf_df in div1000_folder\n",
    "div1000_perf_df.to_csv(Path(div1000_folder, 'complete_perf_df.csv'), columns=div1000_perf_df.columns)\n",
    "abnormal_perf_df = create_perf_df_from_folds_root(abnormal_folder, info_dict)\n",
    "# save the abnormal_perf_df in abnormal_folder\n",
    "abnormal_perf_df.to_csv(Path(abnormal_folder, 'complete_perf_df.csv'), columns=abnormal_perf_df.columns)\n",
    "unet_perf_df = create_perf_df_from_folds_root(unet_folder, info_dict)\n",
    "# save the unet_perf_df in unet_folder\n",
    "unet_perf_df.to_csv(Path(unet_folder, 'complete_perf_df.csv'), columns=unet_perf_df.columns)\n",
    "\n",
    "# in each result folder "
   ],
   "metadata": {
    "collapsed": false,
    "ExecuteTime": {
     "end_time": "2023-09-29T16:04:09.144718373Z",
     "start_time": "2023-09-29T15:59:49.890577382Z"
    }
   }
  },
  {
   "cell_type": "code",
   "execution_count": 130,
   "outputs": [
    {
     "name": "stdout",
     "output_type": "stream",
     "text": [
      "3563\n"
     ]
    }
   ],
   "source": [
    "print(len(unet_perf_df))"
   ],
   "metadata": {
    "collapsed": false,
    "ExecuteTime": {
     "end_time": "2023-09-27T12:21:10.872061275Z",
     "start_time": "2023-09-27T12:21:10.747863303Z"
    }
   }
  },
  {
   "cell_type": "code",
   "execution_count": 228,
   "outputs": [
    {
     "name": "stderr",
     "output_type": "stream",
     "text": [
      "100%|██████████| 3563/3563 [03:52<00:00, 15.32it/s]\n"
     ]
    }
   ],
   "source": [
    "from nilearn.image import smooth_img\n",
    "info_dict = open_json('/media/chrisfoulon/HDD2/final_training_set/cleaned_abnormal_b1000_info_dict_label_size_with_lesion_cluster.json')\n",
    "\n",
    "# apply a 4 voxels smoothing to the labels in info_dict[k]['label'] and save the result in a new folder '/media/chrisfoulon/HDD2/final_training_set/cleaned_labels_smoothed_4mm'\n",
    "# create the folder\n",
    "cleaned_labels_smoothed_4mm_folder = '/media/chrisfoulon/HDD2/final_training_set/cleaned_labels_smoothed_4mm'\n",
    "os.makedirs(cleaned_labels_smoothed_4mm_folder, exist_ok=True)\n",
    "# for each key in info_dict, load the image at info_dict[k]['label'] and apply a 4 voxels smoothing to it\n",
    "smoothed_labels_info_dict = {}\n",
    "for k in tqdm(info_dict):\n",
    "    smoothed_labels_info_dict[k] = info_dict[k]\n",
    "    label_nifti = nib.load(info_dict[k]['label'])\n",
    "    smoothed_label_nifti = smooth_img(label_nifti, 4)\n",
    "    # save the smoothed_label_nifti in cleaned_labels_smoothed_4mm_folder\n",
    "    nib.save(smoothed_label_nifti, Path(cleaned_labels_smoothed_4mm_folder, f'{k}.nii'))\n",
    "    # add the path to the smoothed_label_nifti to smoothed_labels_info_dict[k]\n",
    "    smoothed_labels_info_dict[k]['smoothed_label'] = str(Path(cleaned_labels_smoothed_4mm_folder, f'{k}.nii'))\n",
    "# save the smoothed_labels_info_dict\n",
    "save_json(Path(cleaned_labels_smoothed_4mm_folder, 'cleaned_abnormal_b1000_info_dict_label_size_smoothed_labels.json'), smoothed_labels_info_dict)\n"
   ],
   "metadata": {
    "collapsed": false,
    "ExecuteTime": {
     "end_time": "2023-09-29T16:40:08.055358283Z",
     "start_time": "2023-09-29T16:36:15.031517402Z"
    }
   }
  },
  {
   "cell_type": "code",
   "execution_count": 229,
   "outputs": [
    {
     "name": "stderr",
     "output_type": "stream",
     "text": [
      "3563it [00:03, 1183.94it/s]\n"
     ]
    }
   ],
   "source": [
    "# compute subtraction of 4mm smoothed labels weighted with dice of div1000 and abnormal and save them in div1000_minus_abnormal_output_folder\n",
    "smoothed_labels_info_dict = open_json('/media/chrisfoulon/HDD2/final_training_set/cleaned_abnormal_b1000_info_dict_label_size.json')\n",
    "div1000_minus_abnormal_output_folder = '/media/chrisfoulon/HDD2/final_training_set/div1000_minus_abnormal_swinunetr'\n",
    "os.makedirs(div1000_minus_abnormal_output_folder, exist_ok=True)\n",
    "# first we import the spreadsheet listing the smoothed labels (e.g. /media/chrisfoulon/HDD2/final_training_set/perf_labels_control_training_wf_div1000_dicefocal_4mm/spm_smoothed_segmentation_perf_df.csv)\n",
    "div1000_perf_df = pd.read_csv('/media/chrisfoulon/HDD2/final_training_set/perf_labels_control_training_wf_div1000_dicefocal_4mm/spm_smoothed_segmentation_perf_df.csv', index_col=0)\n",
    "abnormal_perf_df = pd.read_csv('/media/chrisfoulon/HDD2/final_training_set/perf_labels_abnormal_segmentation_dice_focal_4mm/spm_smoothed_segmentation_perf_df.csv', index_col=0) \n",
    "subtraction_df = pd.DataFrame(columns=['smoothed_label', 'label_volume', 'subtraction_dice_metric'])\n",
    "for key, row in tqdm(div1000_perf_df.iterrows()):\n",
    "    # find the corresponding row in abnormal_perf_df\n",
    "    abnormal_row = abnormal_perf_df.loc[key]\n",
    "    # save the weighted_label_nifti in abnormal_weighted_output_folder\n",
    "    # nib.save(subtraction_weighted_label_nifti, Path(div1000_minus_abnormal_output_folder_labels, f'{key}.nii'))\n",
    "    # fill up the info in subtraction_df (indices are the keys)\n",
    "    subtraction_df.loc[key] = [info_dict[key]['smoothed_label'], info_dict[key]['label_size'],\n",
    "                               row['dice_metric'] - abnormal_row['dice_metric']]\n",
    "\n",
    "    \n",
    "# save subtraction_df in div1000_minus_abnormal_output_folder\n",
    "subtraction_df.to_csv(Path(div1000_minus_abnormal_output_folder, 'subtraction_df.csv'), columns=subtraction_df.columns)\n"
   ],
   "metadata": {
    "collapsed": false,
    "ExecuteTime": {
     "end_time": "2023-09-29T16:40:11.199690173Z",
     "start_time": "2023-09-29T16:40:08.093095359Z"
    }
   }
  },
  {
   "cell_type": "code",
   "execution_count": 230,
   "outputs": [
    {
     "name": "stderr",
     "output_type": "stream",
     "text": [
      "3563it [00:02, 1215.45it/s]\n"
     ]
    }
   ],
   "source": [
    "# same but with div1000 minus unet\n",
    "smoothed_labels_info_dict = open_json('/media/chrisfoulon/HDD2/final_training_set/cleaned_abnormal_b1000_info_dict_label_size.json')\n",
    "div1000_minus_unet_output_folder = '/media/chrisfoulon/HDD2/final_training_set/div1000_minus_unet'\n",
    "os.makedirs(div1000_minus_unet_output_folder, exist_ok=True)\n",
    "# first we import the spreadsheet listing the smoothed labels (e.g. /media/chrisfoulon/HDD2/final_training_set/perf_labels_control_training_wf_div1000_dicefocal_4mm/spm_smoothed_segmentation_perf_df.csv)\n",
    "div1000_perf_df = pd.read_csv('/media/chrisfoulon/HDD2/final_training_set/perf_labels_control_training_wf_div1000_dicefocal_4mm/spm_smoothed_segmentation_perf_df.csv', index_col=0)\n",
    "unet_perf_df = pd.read_csv('/media/chrisfoulon/HDD2/final_training_set/perf_labels_abnormal_training_no_augs_unet_4mm/spm_smoothed_segmentation_perf_df.csv', index_col=0)\n",
    "subtraction_df = pd.DataFrame(columns=['smoothed_label', 'label_volume', 'subtraction_dice_metric'])\n",
    "\n",
    "for key, row in tqdm(div1000_perf_df.iterrows()):\n",
    "    # find the corresponding row in abnormal_perf_df\n",
    "    unet_row = unet_perf_df.loc[key]\n",
    "    # save the weighted_label_nifti in abnormal_weighted_output_folder\n",
    "    # nib.save(subtraction_weighted_label_nifti, Path(div1000_minus_abnormal_output_folder_labels, f'{key}.nii'))\n",
    "    # fill up the info in subtraction_df (indices are the keys)\n",
    "    subtraction_df.loc[key] = [info_dict[key]['smoothed_label'], info_dict[key]['label_size'],\n",
    "                               row['dice_metric'] - unet_row['dice_metric']]\n",
    "# save subtraction_df in div1000_minus_abnormal_output_folder\n",
    "subtraction_df.to_csv(Path(div1000_minus_unet_output_folder, 'subtraction_df.csv'), columns=subtraction_df.columns)"
   ],
   "metadata": {
    "collapsed": false,
    "ExecuteTime": {
     "end_time": "2023-09-29T16:40:14.238571218Z",
     "start_time": "2023-09-29T16:40:11.229217601Z"
    }
   }
  },
  {
   "cell_type": "code",
   "execution_count": 61,
   "outputs": [
    {
     "name": "stdout",
     "output_type": "stream",
     "text": [
      "0.05750330210705981\n",
      "0.10830266293910887\n"
     ]
    }
   ],
   "source": [
    "div1000_minus_unet_subtraction_df = pd.read_csv('/media/chrisfoulon/HDD2/final_training_set/div1000_minus_unet/subtraction_df.csv', index_col=0)\n",
    "# print the mean and std of the subtraction_dice_metric\n",
    "print(np.mean(div1000_minus_unet_subtraction_df['subtraction_dice_metric']))\n",
    "print(np.std(div1000_minus_unet_subtraction_df['subtraction_dice_metric']))"
   ],
   "metadata": {
    "collapsed": false,
    "ExecuteTime": {
     "end_time": "2023-09-25T15:05:06.298340158Z",
     "start_time": "2023-09-25T15:05:06.246812326Z"
    }
   }
  },
  {
   "cell_type": "code",
   "execution_count": 194,
   "outputs": [
    {
     "name": "stdout",
     "output_type": "stream",
     "text": [
      "Found 5 val_perf_individual_measures.csv files\n",
      "Found 3563 output_*.nii files\n",
      "Found 3563 rows in total in the val_perf_individual_measures.csv files\n",
      "Unique labels in keys_struct: 3563\n",
      "Unique keys in keys_struct: 3563\n"
     ]
    },
    {
     "name": "stderr",
     "output_type": "stream",
     "text": [
      "3563 output files, 3563 keys: : 3563it [01:23, 42.77it/s]\n"
     ]
    },
    {
     "name": "stdout",
     "output_type": "stream",
     "text": [
      "Found 3563 keys\n",
      "Found 3563 output files\n",
      "Unique keys matched: 3563\n",
      "Unique output files matched: 3563\n",
      "Unique keys in val_perf_df: 3563\n",
      "Unique labels in val_perf_df: 3563\n",
      "Unique segmentations in val_perf_df: 3563\n",
      "Unique core_filenames in val_perf_df: 3563\n"
     ]
    }
   ],
   "source": [
    "from lesseg_unet.utils import create_perf_df_from_folds_root\n",
    "fold_root_folder = '/media/chrisfoulon/HDD2/final_training_set/control_training_wf_div1000_dicefocal'\n",
    "info_dict = open_json('/media/chrisfoulon/HDD2/final_training_set/cleaned_abnormal_b1000_info_dict_label_size.json')\n",
    "div1000_perf_df = create_perf_df_from_folds_root(fold_root_folder, info_dict)\n",
    "# save the div1000_perf_df in div1000_folder\n",
    "div1000_perf_df.to_csv(Path(fold_root_folder, 'complete_perf_df.csv'), columns=div1000_perf_df.columns)\n",
    "# print(len(div1000_perf_df))\n",
    "# perf_dict = div1000_perf_df.to_dict(orient='index')\n",
    "# print(len(perf_dict))\n",
    "# # save the perf_dict\n",
    "# if not len(perf_dict) > 3000:\n",
    "#     save_json(Path(fold_root_folder, 'complete_perf_dict.json'), perf_dict)"
   ],
   "metadata": {
    "collapsed": false,
    "ExecuteTime": {
     "end_time": "2023-09-29T09:59:41.388150141Z",
     "start_time": "2023-09-29T09:58:17.285837897Z"
    }
   }
  },
  {
   "cell_type": "code",
   "execution_count": 203,
   "outputs": [
    {
     "name": "stdout",
     "output_type": "stream",
     "text": [
      "Index(['Unnamed: 0', 'core_filename', 'dice_metric', 'volume', 'distance',\n",
      "       'key', 'label', 'segmentation', 'distance_ratio', 'volume_ratio'],\n",
      "      dtype='object')\n",
      "Unique keys in val_perf_df: 3563\n",
      "Unique keys in val_perf_df: 3563\n",
      "3563\n",
      "3563\n",
      "3563\n"
     ]
    }
   ],
   "source": [
    "print(div1000_perf_df.columns)\n",
    "print(f'Unique keys in val_perf_df: {len(np.unique(div1000_perf_df[\"key\"].to_list()))}')\n",
    "print(f'Unique keys in val_perf_df: {len((div1000_perf_df[\"key\"].to_list()))}')\n",
    "print(len(info_dict))\n",
    "print(len(div1000_perf_df['key'].unique()))\n",
    "print(len(div1000_perf_df['label'].unique()))\n"
   ],
   "metadata": {
    "collapsed": false,
    "ExecuteTime": {
     "end_time": "2023-09-29T10:33:55.727352471Z",
     "start_time": "2023-09-29T10:33:55.674736016Z"
    }
   }
  },
  {
   "cell_type": "code",
   "execution_count": 217,
   "outputs": [
    {
     "name": "stdout",
     "output_type": "stream",
     "text": [
      "3563\n",
      "3563\n"
     ]
    },
    {
     "name": "stderr",
     "output_type": "stream",
     "text": [
      "3563it [00:00, 15281.29it/s]"
     ]
    },
    {
     "name": "stdout",
     "output_type": "stream",
     "text": [
      "3563\n"
     ]
    },
    {
     "name": "stderr",
     "output_type": "stream",
     "text": [
      "\n"
     ]
    }
   ],
   "source": [
    "# print first row of df\n",
    "# print(div1000_perf_df.iloc[0])\n",
    "# convert div1000_perf_df to a dict with the column 'key' as keys\n",
    "perf_dict = {}\n",
    "print(len(div1000_perf_df))\n",
    "# print number of unique 'key' values\n",
    "print(len(div1000_perf_df['key'].unique()))\n",
    "for ind, row in tqdm(div1000_perf_df.iterrows()):\n",
    "    k = row['key']\n",
    "    perf_dict[k] = row.to_dict()\n",
    "print(len(perf_dict))\n",
    "# print first key and value\n"
   ],
   "metadata": {
    "collapsed": false,
    "ExecuteTime": {
     "end_time": "2023-09-29T11:00:22.350961557Z",
     "start_time": "2023-09-29T11:00:22.078226992Z"
    }
   }
  },
  {
   "cell_type": "code",
   "execution_count": 222,
   "outputs": [
    {
     "name": "stdout",
     "output_type": "stream",
     "text": [
      "3563\n",
      "wodctH25_b1000_clmp_b1000_s91145295-0003-00000-000001-01\n",
      "{'Unnamed: 0': 0, 'core_filename': 'wodctH25_b1000_clmp_b1000_s91145295-0003-00000-000001-01_v31121v', 'dice_metric': 0.9149065017700196, 'volume': 31121, 'distance': 2.2360680103302, 'key': 'wodctH25_b1000_clmp_b1000_s91145295-0003-00000-000001-01', 'label': '/media/chrisfoulon/HDD2/final_training_set/cleaned_abnormal_labels/label_wodctH25_b1000_clmp_b1000_s91145295-0003-00000-000001-01.nii.gz', 'segmentation': '/media/chrisfoulon/HDD2/final_training_set/control_training_wf_div1000_dicefocal/fold_0/val_images/R_Anterior_MCA/output_wodctH25_b1000_clmp_b1000_s91145295-0003-00000-000001-01_v31121v_0.nii.gz', 'distance_ratio': 0.9879050150445222, 'volume_ratio': 1.1016673156571914}\n",
      "3563\n",
      "wodctH25_b1000_clmp_b1000_s91145295-0003-00000-000001-01\n",
      "{'b1000': '/media/chrisfoulon/HDD2/final_training_set/cleaned_abnormal_images/wodctH25_b1000_clmp_b1000_s91145295-0003-00000-000001-01.nii.gz', 'PatientID': '91145295', 'StudyDate': '20070411', 'PatientAge': '088Y', 'PatientSex': 'F', 'label': '/media/chrisfoulon/HDD2/final_training_set/cleaned_abnormal_labels/label_wodctH25_b1000_clmp_b1000_s91145295-0003-00000-000001-01.nii.gz', 'label_size': 28249}\n"
     ]
    }
   ],
   "source": [
    "print(len(perf_dict))\n",
    "# print first key and value\n",
    "print(list(perf_dict.keys())[0])\n",
    "print(perf_dict[list(perf_dict.keys())[0]])\n",
    "\n",
    "# same with info_dict\n",
    "print(len(info_dict))\n",
    "# print first key and value\n",
    "print(list(info_dict.keys())[0])\n",
    "print(info_dict[list(info_dict.keys())[0]])"
   ],
   "metadata": {
    "collapsed": false,
    "ExecuteTime": {
     "end_time": "2023-09-29T11:06:47.840750756Z",
     "start_time": "2023-09-29T11:06:47.573425721Z"
    }
   }
  },
  {
   "cell_type": "code",
   "execution_count": 223,
   "outputs": [
    {
     "name": "stderr",
     "output_type": "stream",
     "text": [
      "100%|██████████| 3563/3563 [3:01:00<00:00,  3.05s/it]  \n",
      "100%|██████████| 3563/3563 [00:00<00:00, 144019.29it/s]\n"
     ]
    }
   ],
   "source": [
    "from lesseg_unet.utils import add_cluster_to_dict\n",
    "\n",
    "# for k in tqdm(perf_dict):\n",
    "#     del perf_dict[k]['lesion_cluster']\n",
    "# Add a lesion_cluster attribute in the perf_dict (is is the parent name directory of the segmentation)\n",
    "perf_dict = add_cluster_to_dict(perf_dict)\n",
    "for k in tqdm(perf_dict):\n",
    "    perf_dict[k]['pref_lesion_cluster'] = str(Path(perf_dict[k]['segmentation']).parent.name)\n",
    "# save the perf_dict\n",
    "save_json(Path(fold_root_folder, 'complete_perf_dict.json'), perf_dict)"
   ],
   "metadata": {
    "collapsed": false,
    "ExecuteTime": {
     "end_time": "2023-09-29T14:08:32.605847018Z",
     "start_time": "2023-09-29T11:07:32.048985213Z"
    }
   }
  },
  {
   "cell_type": "code",
   "execution_count": 226,
   "outputs": [
    {
     "name": "stderr",
     "output_type": "stream",
     "text": [
      "100%|██████████| 3563/3563 [00:00<00:00, 1171734.76it/s]\n"
     ]
    }
   ],
   "source": [
    "complete_perf_dict = open_json('/media/chrisfoulon/HDD2/final_training_set/control_training_wf_div1000_dicefocal/complete_perf_dict.json')\n",
    "info_dict = open_json('/media/chrisfoulon/HDD2/final_training_set/cleaned_abnormal_b1000_info_dict_label_size.json')\n",
    "\n",
    "# add the lesion_cluster to the info_dict and save it with suffix _with_lesion_cluster\n",
    "for k in tqdm(info_dict):\n",
    "    info_dict[k]['lesion_cluster'] = complete_perf_dict[k]['lesion_cluster']\n",
    "\n",
    "save_json('/media/chrisfoulon/HDD2/final_training_set/cleaned_abnormal_b1000_info_dict_label_size_with_lesion_cluster.json', info_dict)"
   ],
   "metadata": {
    "collapsed": false,
    "ExecuteTime": {
     "end_time": "2023-09-29T15:39:12.659554979Z",
     "start_time": "2023-09-29T15:39:12.256411380Z"
    }
   }
  },
  {
   "cell_type": "code",
   "execution_count": 208,
   "outputs": [
    {
     "name": "stdout",
     "output_type": "stream",
     "text": [
      "['cleaned_abnormal_labels']\n"
     ]
    },
    {
     "ename": "AttributeError",
     "evalue": "'Axes' object has no attribute 'flatten'",
     "output_type": "error",
     "traceback": [
      "\u001B[0;31m---------------------------------------------------------------------------\u001B[0m",
      "\u001B[0;31mAttributeError\u001B[0m                            Traceback (most recent call last)",
      "Cell \u001B[0;32mIn[208], line 25\u001B[0m\n\u001B[1;32m     23\u001B[0m plt\u001B[38;5;241m.\u001B[39mrcParams[\u001B[38;5;124m'\u001B[39m\u001B[38;5;124mfigure.figsize\u001B[39m\u001B[38;5;124m'\u001B[39m] \u001B[38;5;241m=\u001B[39m [\u001B[38;5;241m20\u001B[39m, \u001B[38;5;241m15\u001B[39m]\n\u001B[1;32m     24\u001B[0m \u001B[38;5;66;03m# fix error: AttributeError: 'numpy.ndarray' object has no attribute 'fill_betweenx'\u001B[39;00m\n\u001B[0;32m---> 25\u001B[0m axes \u001B[38;5;241m=\u001B[39m \u001B[43maxes\u001B[49m\u001B[38;5;241;43m.\u001B[39;49m\u001B[43mflatten\u001B[49m()\n\u001B[1;32m     26\u001B[0m \u001B[38;5;66;03m# all plots y axis should be between 0 and 1\u001B[39;00m\n\u001B[1;32m     27\u001B[0m \u001B[38;5;28;01mfor\u001B[39;00m ax \u001B[38;5;129;01min\u001B[39;00m axes:\n",
      "\u001B[0;31mAttributeError\u001B[0m: 'Axes' object has no attribute 'flatten'"
     ]
    },
    {
     "data": {
      "text/plain": "<Figure size 2000x1500 with 1 Axes>",
      "image/png": "[encoded data removed]"
     },
     "metadata": {},
     "output_type": "display_data"
    }
   ],
   "source": [
    "# Here, the goal is to use perf_dict to plot the distribution of the dice_metric for each lesion_cluster (one violinplot per lesion_cluster) and to compute the correlation between the lesion_cluster and the dice_metric and display all the plots in one figure (save it as a png in the fold_root_folder)\n",
    "# Some cluster names start with L_ or R_, but we only care about what is after L_ or R_ when it is in the name\n",
    "# We can use the following code to get the list of lesion_clusters\n",
    "lesion_cluster_list = list(set([perf_dict[k]['lesion_cluster'].split('L_')[-1].split('R_')[-1] for k in perf_dict]))\n",
    "print(lesion_cluster_list)\n",
    "\n",
    "# For each lesion_cluster, create a list of dice_metric values\n",
    "dice_metric_list = []\n",
    "for lesion_cluster in lesion_cluster_list:\n",
    "    dice_metric_list.append([perf_dict[k]['dice_metric'] for k in perf_dict if lesion_cluster in perf_dict[k]['lesion_cluster']])\n",
    "    \n",
    "# Then, plot the distribution of the dice_metric for each lesion_cluster (one violinplot per lesion_cluster) and compute the correlation between the lesion_cluster and the dice_metric and display all the plots in one figure (save it as a png in the fold_root_folder)\n",
    "import seaborn as sns\n",
    "import matplotlib.pyplot as plt\n",
    "# import pearnonr\n",
    "from scipy.stats import pearsonr\n",
    "# plot up to 4 violinplots per row\n",
    "# fig, axes = plt.subplots(len(lesion_cluster_list) // 4 + 1, 4)\n",
    "# plot all the violinplots on one line with a shared y axis\n",
    "fig, axes = plt.subplots(1, len(lesion_cluster_list), sharey=True)\n",
    "\n",
    "# make plots taller and larger\n",
    "plt.rcParams['figure.figsize'] = [20, 15]\n",
    "# fix error: AttributeError: 'numpy.ndarray' object has no attribute 'fill_betweenx'\n",
    "axes = axes.flatten()\n",
    "# all plots y axis should be between 0 and 1\n",
    "for ax in axes:\n",
    "    ax.set_ylim(0, 1)\n",
    "    \n",
    "# x labels should be diagonal\n",
    "for ax in axes:\n",
    "    ax.set_xticklabels(ax.get_xticklabels(), rotation=45, ha='right')\n",
    "\n",
    "for ind, lesion_cluster in enumerate(lesion_cluster_list):\n",
    "    sns.violinplot(ax=axes[ind], data=dice_metric_list[ind])\n",
    "    \n",
    "    \n",
    "    \n",
    "        \n",
    "    \n",
    "\n",
    "# plt.savefig(Path(fold_root_folder, 'lesion_cluster_dice_metric_correlation.png'))\n",
    "\n",
    "plt.show()\n",
    "\n",
    "\n",
    "# for ind, lesion_cluster in enumerate(lesion_cluster_list):\n",
    "#         sns.violinplot(ax=axes[ind], data=metric_list[ind])\n",
    "#         # title should be the lesion_cluster, number of images in the cluster and the mean metric\n",
    "#         axes[ind].set_title(f'{lesion_cluster} / {len(metric_list[ind])} ')\n",
    "#         # metric name : mean metric value should be the x label\n",
    "#         axes[ind].set_xlabel(f'{metric_name} : {np.mean(metric_list[ind]):.2f}')\n",
    "#         # remove the x scale \n",
    "#         axes[ind].set_xticks([])"
   ],
   "metadata": {
    "collapsed": false,
    "ExecuteTime": {
     "end_time": "2023-09-29T10:34:49.242445842Z",
     "start_time": "2023-09-29T10:34:49.036895857Z"
    }
   }
  },
  {
   "cell_type": "code",
   "execution_count": 224,
   "outputs": [],
   "source": [
    "# create a function that takes a perf_seg_dict, an output folder and a metric name (found in perf_dict) and creates the plots and saves them in the output folder\n",
    "import seaborn as sns\n",
    "import matplotlib.pyplot as plt\n",
    "\n",
    "\n",
    "def plot_perf_violin_per_cluster(perf_seg_dict, output_folder, metric_name='dice_metric', y_val_range=(0, 1)):\n",
    "    lesion_cluster_list = list(set([perf_seg_dict[k]['lesion_cluster'].split('L_')[-1].split('R_')[-1] for k in perf_seg_dict]))\n",
    "    # For each lesion_cluster, create a list of metric values\n",
    "    metric_list = []\n",
    "    for lesion_cluster in lesion_cluster_list:\n",
    "        metric_list.append([perf_seg_dict[k][metric_name] for k in perf_seg_dict if lesion_cluster in perf_seg_dict[k]['lesion_cluster']])\n",
    "    # sort the cluster list and the metric list by the mean of the metric (decreasing)\n",
    "    lesion_cluster_list, metric_list = zip(*sorted(zip(lesion_cluster_list, metric_list), key=lambda x: np.mean(x[1]), reverse=True))\n",
    "    # Then, plot the distribution of the metric for each lesion_cluster (one violinplot per lesion_cluster) and compute the correlation between the lesion_cluster and the metric and display all the plots in one figure (save it as a png in the fold_root_folder)\n",
    "    # fig, axes = plt.subplots(len(lesion_cluster_list) // 4 + 1, 4)\n",
    "    fig, axes = plt.subplots(1, len(lesion_cluster_list), sharey=True)  \n",
    "    # make plots taller and larger\n",
    "    plt.rcParams['figure.figsize'] = [20, 15]\n",
    "    # Add space between rows\n",
    "    fig.subplots_adjust(hspace=0.5)\n",
    "    # fix error: AttributeError: 'numpy.ndarray' object has no attribute 'fill_betweenx'\n",
    "    axes = axes.flatten()\n",
    "    # all plots y axis should be between 0 and 1\n",
    "    # if y_val_range is not None:\n",
    "    if y_val_range is not None:\n",
    "        for ax in axes:\n",
    "            ax.set_ylim(y_val_range)\n",
    "    else:\n",
    "        # compute the min and max of the metric_list\n",
    "        min_metric = min([min(metric) for metric in metric_list])\n",
    "        max_metric = max([max(metric) for metric in metric_list])\n",
    "        for ax in axes:\n",
    "            ax.set_ylim(min_metric, max_metric)\n",
    "    # # if the number of lesion_cluster is not a multiple of 4, the last row of plots should be empty\n",
    "    # if len(lesion_cluster_list) % 4 != 0:\n",
    "    #     for ax in axes[-(4 - len(lesion_cluster_list) % 4):]:\n",
    "    #         ax.axis('off')\n",
    "\n",
    "    for ind, lesion_cluster in enumerate(lesion_cluster_list):\n",
    "        sns.violinplot(ax=axes[ind], data=metric_list[ind])\n",
    "        # corr = pearsonr([perf_dict[k]['volume'] for k in perf_dict if lesion_cluster in perf_dict[k]['lesion_cluster']], [perf_dict[k]['dice_metric'] for k in perf_dict if lesion_cluster in perf_dict[k]['lesion_cluster']])\n",
    "        # title should be the lesion_cluster, number of images in the cluster and the mean metric\n",
    "        # axes[ind].set_title(f'{lesion_cluster} / {len(metric_list[ind])} / {np.mean(metric_list[ind]):.2f}')\n",
    "        # instead of title, the lesion_cluster, number of images in the cluster and the mean metric should be displayed on the x axis in diagonal\n",
    "        axes[ind].set_xlabel(f'{lesion_cluster}', rotation=45, ha='right')\n",
    "        # axes[ind].set_xlabel(f'{lesion_cluster} / {len(metric_list[ind])} / {np.mean(metric_list[ind]):.2f}', rotation=45, ha='right')\n",
    "        \n",
    "    plt.savefig(Path(output_folder, f'{metric_name}_lesion_cluster_correlation.png'))\n",
    "    plt.show()\n",
    "    \n",
    "    "
   ],
   "metadata": {
    "collapsed": false,
    "ExecuteTime": {
     "end_time": "2023-09-29T14:08:32.661884607Z",
     "start_time": "2023-09-29T14:08:32.653226739Z"
    }
   }
  },
  {
   "cell_type": "code",
   "execution_count": null,
   "outputs": [],
   "source": [
    " # use the function on the perf_dict for div1000 with dice_metric, distance and distance_ratio and volume_ratio\n",
    "plot_perf_violin_per_cluster(perf_dict, fold_root_folder, metric_name='dice_metric')\n",
    "plot_perf_violin_per_cluster(perf_dict, fold_root_folder, metric_name='distance', y_val_range=None)\n",
    "plot_perf_violin_per_cluster(perf_dict, fold_root_folder, metric_name='distance_ratio')\n",
    "plot_perf_violin_per_cluster(perf_dict, fold_root_folder, metric_name='volume_ratio', y_val_range=None)\n",
    "\n",
    "\n"
   ],
   "metadata": {
    "collapsed": false
   }
  },
  {
   "cell_type": "code",
   "execution_count": 7,
   "outputs": [
    {
     "name": "stdout",
     "output_type": "stream",
     "text": [
      "3563\n"
     ]
    },
    {
     "name": "stderr",
     "output_type": "stream",
     "text": [
      "3563it [00:41, 85.17it/s]\n",
      "/home/chrisfoulon/miniconda3/lib/python3.11/site-packages/umap/umap_.py:1943: UserWarning: n_jobs value -1 overridden to 1 by setting random_state. Use no seed for parallelism.\n",
      "  warn(f\"n_jobs value {self.n_jobs} overridden to 1 by setting random_state. Use no seed for parallelism.\")\n"
     ]
    },
    {
     "data": {
      "text/plain": "<Figure size 640x480 with 1 Axes>",
      "image/png": "[encoded data removed]"
     },
     "metadata": {},
     "output_type": "display_data"
    },
    {
     "name": "stdout",
     "output_type": "stream",
     "text": [
      "Labels umap embedding saved\n",
      "3563\n"
     ]
    },
    {
     "name": "stderr",
     "output_type": "stream",
     "text": [
      "3563it [00:37, 95.62it/s]\n",
      "/home/chrisfoulon/miniconda3/lib/python3.11/site-packages/umap/umap_.py:1943: UserWarning: n_jobs value -1 overridden to 1 by setting random_state. Use no seed for parallelism.\n",
      "  warn(f\"n_jobs value {self.n_jobs} overridden to 1 by setting random_state. Use no seed for parallelism.\")\n"
     ]
    },
    {
     "data": {
      "text/plain": "<Figure size 640x480 with 1 Axes>",
      "image/png": "[encoded data removed]"
     },
     "metadata": {},
     "output_type": "display_data"
    },
    {
     "name": "stdout",
     "output_type": "stream",
     "text": [
      "/media/chrisfoulon/DATA2/final_training_set/abnormal_training_no_augs_unet umap embedding saved\n",
      "3563\n"
     ]
    },
    {
     "name": "stderr",
     "output_type": "stream",
     "text": [
      "3563it [00:37, 94.81it/s]\n",
      "/home/chrisfoulon/miniconda3/lib/python3.11/site-packages/umap/umap_.py:1943: UserWarning: n_jobs value -1 overridden to 1 by setting random_state. Use no seed for parallelism.\n",
      "  warn(f\"n_jobs value {self.n_jobs} overridden to 1 by setting random_state. Use no seed for parallelism.\")\n"
     ]
    },
    {
     "data": {
      "text/plain": "<Figure size 640x480 with 1 Axes>",
      "image/png": "[encoded data removed]"
     },
     "metadata": {},
     "output_type": "display_data"
    },
    {
     "name": "stdout",
     "output_type": "stream",
     "text": [
      "/media/chrisfoulon/DATA2/final_training_set/control_training_wf_div1000_dicefocal umap embedding saved\n",
      "3563\n"
     ]
    },
    {
     "name": "stderr",
     "output_type": "stream",
     "text": [
      "3563it [00:37, 94.92it/s] \n",
      "/home/chrisfoulon/miniconda3/lib/python3.11/site-packages/umap/umap_.py:1943: UserWarning: n_jobs value -1 overridden to 1 by setting random_state. Use no seed for parallelism.\n",
      "  warn(f\"n_jobs value {self.n_jobs} overridden to 1 by setting random_state. Use no seed for parallelism.\")\n"
     ]
    },
    {
     "data": {
      "text/plain": "<Figure size 640x480 with 1 Axes>",
      "image/png": "[encoded data removed]"
     },
     "metadata": {},
     "output_type": "display_data"
    },
    {
     "name": "stdout",
     "output_type": "stream",
     "text": [
      "/media/chrisfoulon/DATA2/final_training_set/abnormal_segmentation_dice_focal umap embedding saved\n"
     ]
    }
   ],
   "source": [
    "from bcblib.tools.umap_utils import nifti_dataset_to_matrix, train_umap\n",
    "from bcblib.tools.general_utils import open_json, save_json\n",
    "import nibabel as nib\n",
    "import joblib\n",
    "import matplotlib.pyplot as plt\n",
    "\n",
    "segmentation_folders = [\n",
    "    '/media/chrisfoulon/DATA2/final_training_set/abnormal_training_no_augs_unet',\n",
    "    '/media/chrisfoulon/DATA2/final_training_set/control_training_wf_div1000_dicefocal',\n",
    "    '/media/chrisfoulon/DATA2/final_training_set/abnormal_segmentation_dice_focal'\n",
    "]\n",
    "\n",
    "perf_dict_filename = 'perf_seg_dict.json'\n",
    "\n",
    "label_dict_path = '/media/chrisfoulon/DATA2/final_training_set/cleaned_abnormal_b1000_info_dict_label_size_with_lesion_cluster.json'\n",
    "label_dict = open_json(label_dict_path)\n",
    "# first we create a list of the labels using the dict and the 'label' key for each key in the dict\n",
    "label_list = [\n",
    "        nib.load(label_dict[k]['label'].replace('HDD2', 'DATA2')) for k in label_dict\n",
    "]\n",
    "\n",
    "output_folder = '/media/chrisfoulon/DATA2/final_training_set/umaps'\n",
    "print(len(label_list))\n",
    "umap_input_matrix = nifti_dataset_to_matrix(label_list)\n",
    "\n",
    "output_label_umap_path = output_folder + '/labels_trained_umap.joblib'\n",
    "if not os.path.exists(output_label_umap_path):\n",
    "    # train the umap\n",
    "    trained_umap = train_umap(umap_input_matrix, n_neighbors=15, min_dist=0.1, n_components=2, random_state=42)\n",
    "\n",
    "    # save the trained_umap\n",
    "    joblib.dump(trained_umap, output_label_umap_path)\n",
    "\n",
    "else:\n",
    "    # load the trained_umap\n",
    "    trained_umap = joblib.load(output_label_umap_path)\n",
    "\n",
    "# transform the umap_input_matrix with the trained_umap and save the coordinates in a dict with the same keys as the label_dict\n",
    "transformed_umap = trained_umap.transform(umap_input_matrix)\n",
    "\n",
    "# plot the transformed_umap\n",
    "plt.scatter(transformed_umap[:, 0], transformed_umap[:, 1])\n",
    "plt.show()\n",
    "# save the transformed_umap (numpy array) \n",
    "np.save(output_folder + '/labels_umap_embedding.npy', transformed_umap)\n",
    "\n",
    "print('Labels umap embedding saved')\n",
    "\n",
    "# for each segmentation_folder, load the perf_dict and do the same thing as with the labels but using the subkey 'segmentation' instead of 'label'\n",
    "\n",
    "for segmentation_folder in segmentation_folders:\n",
    "    perf_dict = open_json(Path(segmentation_folder, perf_dict_filename))\n",
    "    # create a list of the segmentations using the dict and the 'segmentation' key for each key in the dict\n",
    "    segmentation_list = [\n",
    "        nib.load(perf_dict[k]['segmentation'].replace('HDD2', 'DATA2')) for k in perf_dict\n",
    "    ]\n",
    "    print(len(segmentation_list))\n",
    "    umap_input_matrix = nifti_dataset_to_matrix(segmentation_list)\n",
    "    # train the umap\n",
    "    trained_umap = train_umap(umap_input_matrix, n_neighbors=15, min_dist=0.1, n_components=2, random_state=42)\n",
    "    # save the trained_umap in output_folder prefixed with the segmentation_folder name\n",
    "    joblib.dump(trained_umap, Path(output_folder, f'{Path(segmentation_folder).name}_trained_umap.joblib'))\n",
    "    \n",
    "    transformed_umap = trained_umap.transform(umap_input_matrix)\n",
    "    # plot the transformed_umap\n",
    "    plt.scatter(transformed_umap[:, 0], transformed_umap[:, 1])\n",
    "    plt.show()\n",
    "    # save the transformed_umap\n",
    "    np.save(Path(output_folder, f'{Path(segmentation_folder).name}_umap_embedding.npy'), transformed_umap)\n",
    "    print(f'{segmentation_folder} umap embedding saved')"
   ],
   "metadata": {
    "collapsed": false,
    "ExecuteTime": {
     "end_time": "2024-01-18T16:27:57.533962610Z",
     "start_time": "2024-01-18T14:34:09.249844344Z"
    }
   }
  },
  {
   "cell_type": "code",
   "outputs": [],
   "source": [
    "from bcblib.tools.umap_utils import nifti_dataset_to_matrix, train_umap\n",
    "from bcblib.tools.general_utils import open_json, save_json\n",
    "import nibabel as nib\n",
    "import joblib\n",
    "import matplotlib.pyplot as plt\n",
    "from pathlib import Path\n",
    "import numpy as np\n",
    "\n",
    "import time\n",
    "\n",
    "umaps_folder = '/media/chrisfoulon/DATA2/final_training_set/umaps'\n",
    "# umap_dict = {}\n",
    "# for umap_embedding in Path(umaps_folder).glob('**/*_umap_embedding.npy'):\n",
    "#     umap_dict[Path(umap_embedding).name.replace('_umap_embedding.npy', '')] = joblib.load(umap_embedding)\n",
    "    \n",
    "labels_umap = joblib.load('/media/chrisfoulon/DATA2/final_training_set/umaps/labels_trained_umap.joblib')\n",
    "    \n",
    "\n"
   ],
   "metadata": {
    "collapsed": false,
    "ExecuteTime": {
     "end_time": "2024-01-18T19:31:24.308266386Z",
     "start_time": "2024-01-18T19:30:16.219821877Z"
    }
   },
   "execution_count": 9
  },
  {
   "cell_type": "code",
   "outputs": [
    {
     "name": "stderr",
     "output_type": "stream",
     "text": [
      "3563it [00:44, 80.38it/s]\n"
     ]
    },
    {
     "name": "stdout",
     "output_type": "stream",
     "text": [
      "Time to transform the labels: 23.48315668106079\n"
     ]
    },
    {
     "name": "stderr",
     "output_type": "stream",
     "text": [
      "3563it [00:38, 92.17it/s]\n"
     ]
    },
    {
     "name": "stdout",
     "output_type": "stream",
     "text": [
      "Shape of segmentation_input_matrix: (3563, 902629)\n",
      "Time to transform the abnormal_training_no_augs_unet segmentations: 3034.649580001831\n",
      "Shape of segmentation_embedding_dict[abnormal_training_no_augs_unet]: (3563, 2)\n",
      "/media/chrisfoulon/DATA2/final_training_set/abnormal_training_no_augs_unet umap embedding saved\n"
     ]
    },
    {
     "name": "stderr",
     "output_type": "stream",
     "text": [
      "3563it [00:38, 92.22it/s]\n"
     ]
    },
    {
     "name": "stdout",
     "output_type": "stream",
     "text": [
      "Shape of segmentation_input_matrix: (3563, 902629)\n",
      "Time to transform the control_training_wf_div1000_dicefocal segmentations: 3017.149685382843\n",
      "Shape of segmentation_embedding_dict[control_training_wf_div1000_dicefocal]: (3563, 2)\n",
      "/media/chrisfoulon/DATA2/final_training_set/control_training_wf_div1000_dicefocal umap embedding saved\n"
     ]
    },
    {
     "name": "stderr",
     "output_type": "stream",
     "text": [
      "3563it [00:38, 92.22it/s]\n"
     ]
    },
    {
     "name": "stdout",
     "output_type": "stream",
     "text": [
      "Shape of segmentation_input_matrix: (3563, 902629)\n",
      "Time to transform the abnormal_segmentation_dice_focal segmentations: 3029.4999935626984\n",
      "Shape of segmentation_embedding_dict[abnormal_segmentation_dice_focal]: (3563, 2)\n",
      "/media/chrisfoulon/DATA2/final_training_set/abnormal_segmentation_dice_focal umap embedding saved\n",
      "abnormal_training_no_augs_unet\n",
      "1.0011455\n",
      "\n",
      "control_training_wf_div1000_dicefocal\n",
      "0.9726694\n",
      "\n",
      "abnormal_segmentation_dice_focal\n",
      "0.9746182\n"
     ]
    }
   ],
   "source": [
    "\n",
    "import time\n",
    "# create input matrices for the labels and for the different models segmentations\n",
    "label_dict_path = '/media/chrisfoulon/DATA2/final_training_set/cleaned_abnormal_b1000_info_dict_label_size_with_lesion_cluster.json'\n",
    "label_dict = open_json(label_dict_path)\n",
    "# first we create a list of the labels using the dict and the 'label' key for each key in the dict\n",
    "label_list = [\n",
    "        nib.load(label_dict[k]['label'].replace('HDD2', 'DATA2')) for k in label_dict\n",
    "]\n",
    "\n",
    "segmentation_folders = [\n",
    "    '/media/chrisfoulon/DATA2/final_training_set/abnormal_training_no_augs_unet',\n",
    "    '/media/chrisfoulon/DATA2/final_training_set/control_training_wf_div1000_dicefocal',\n",
    "    '/media/chrisfoulon/DATA2/final_training_set/abnormal_segmentation_dice_focal'\n",
    "]\n",
    "\n",
    "perf_dict_filename = 'perf_seg_dict.json'\n",
    "# Create the input matrices for the labels\n",
    "label_input_matrix = nifti_dataset_to_matrix(label_list)\n",
    "\n",
    "# Create embeddings for the labels\n",
    "# Time the embedding\n",
    "start = time.time()\n",
    "label_embedding = labels_umap.transform(label_input_matrix)\n",
    "end = time.time()\n",
    "print(f'Time to transform the labels: {end - start}')\n",
    "# save the embedding as npy file (labels_umap_embedding.npy)\n",
    "np.save(Path(umaps_folder, 'labels_umap_embedding.npy'), label_embedding)\n",
    "\n",
    "# Create the input matrices for the segmentations and create embeddings for the segmentations (store the embeddings in a dict {model_name: embedding})\n",
    "segmentation_embedding_dict = {}\n",
    "for segmentation_folder in segmentation_folders:\n",
    "    perf_dict = open_json(Path(segmentation_folder, perf_dict_filename))\n",
    "    # create a list of the segmentations using the dict and the 'segmentation' key for each key in the dict\n",
    "    segmentation_list = [\n",
    "        nib.load(perf_dict[k]['segmentation'].replace('HDD2', 'DATA2')) for k in perf_dict\n",
    "    ]\n",
    "    segmentation_input_matrix = nifti_dataset_to_matrix(segmentation_list)\n",
    "    # load the trained_umap in output_folder prefixed with the segmentation_folder name\n",
    "    # Create embeddings for the segmentations in the labels_umap space\n",
    "    print(f'Shape of segmentation_input_matrix: {segmentation_input_matrix.shape}')\n",
    "    # Time the embedding\n",
    "    start = time.time()\n",
    "    segmentation_embedding_dict[Path(segmentation_folder).name] = labels_umap.transform(segmentation_input_matrix)\n",
    "    end = time.time()\n",
    "    print(f'Time to transform the {Path(segmentation_folder).name} segmentations: {end - start}')\n",
    "    print(f'Shape of segmentation_embedding_dict[{Path(segmentation_folder).name}]: {segmentation_embedding_dict[Path(segmentation_folder).name].shape}')\n",
    "    \n",
    "    # save the embedding as npy file (model_name_labels_umap_embedding.npy)\n",
    "    np.save(Path(umaps_folder, f'{Path(segmentation_folder).name}_labels_umap_embedding.npy'), segmentation_embedding_dict[Path(segmentation_folder).name])\n",
    "    print(f'{segmentation_folder} umap embedding saved')\n",
    "# Calculate the average distance of the coordinates of the labels to the coordinates of the segmentations for each segmentation model (label_embedding[i] compared to segmentation_embedding_dict[model_name][i])\n",
    "for model_name in segmentation_embedding_dict:\n",
    "    print(model_name)\n",
    "    print(np.mean([np.linalg.norm(label_embedding[i] - segmentation_embedding_dict[model_name][i]) for i in range(len(label_embedding))]))\n",
    "    print()"
   ],
   "metadata": {
    "collapsed": false,
    "ExecuteTime": {
     "end_time": "2024-01-18T23:23:48.949993985Z",
     "start_time": "2024-01-18T20:48:24.038458148Z"
    }
   },
   "execution_count": 16
  },
  {
   "cell_type": "code",
   "outputs": [
    {
     "name": "stdout",
     "output_type": "stream",
     "text": [
      "abnormal_training_no_augs_unet vs control_training_wf_div1000_dicefocal\n",
      "TtestResult(statistic=3.5485477456989423, pvalue=0.000392361695733462, df=3562)\n",
      "\n",
      "abnormal_training_no_augs_unet vs abnormal_segmentation_dice_focal\n",
      "TtestResult(statistic=3.11576125705718, pvalue=0.0018493077940724269, df=3562)\n",
      "\n",
      "control_training_wf_div1000_dicefocal vs abnormal_training_no_augs_unet\n",
      "TtestResult(statistic=-3.5485477456989423, pvalue=0.000392361695733462, df=3562)\n",
      "\n",
      "control_training_wf_div1000_dicefocal vs abnormal_segmentation_dice_focal\n",
      "TtestResult(statistic=-0.23991160743661477, pvalue=0.8104125868863991, df=3562)\n",
      "\n",
      "abnormal_segmentation_dice_focal vs abnormal_training_no_augs_unet\n",
      "TtestResult(statistic=-3.11576125705718, pvalue=0.0018493077940724269, df=3562)\n",
      "\n",
      "abnormal_segmentation_dice_focal vs control_training_wf_div1000_dicefocal\n",
      "TtestResult(statistic=0.23991160743661477, pvalue=0.8104125868863991, df=3562)\n"
     ]
    }
   ],
   "source": [
    "# Compute the lists of distance between the labels and the segmentations for each model\n",
    "distance_list_dict = {}\n",
    "for model_name in segmentation_embedding_dict:\n",
    "    distance_list_dict[model_name] = [np.linalg.norm(label_embedding[i] - segmentation_embedding_dict[model_name][i]) for i in range(len(label_embedding))]\n",
    "    \n",
    "# run a paired ttest between each pair of distance_list\n",
    "from scipy.stats import ttest_rel\n",
    "for model_name1 in distance_list_dict:\n",
    "    for model_name2 in distance_list_dict:\n",
    "        if model_name1 != model_name2:\n",
    "            print(f'{model_name1} vs {model_name2}')\n",
    "            print(ttest_rel(distance_list_dict[model_name1], distance_list_dict[model_name2]))\n",
    "            print()"
   ],
   "metadata": {
    "collapsed": false,
    "ExecuteTime": {
     "end_time": "2024-01-19T08:17:36.491370533Z",
     "start_time": "2024-01-19T08:17:36.433647062Z"
    }
   },
   "execution_count": 17
  }
 ],
 "metadata": {
  "kernelspec": {
   "display_name": "Python 3",
   "language": "python",
   "name": "python3"
  },
  "language_info": {
   "codemirror_mode": {
    "name": "ipython",
    "version": 2
   },
   "file_extension": ".py",
   "mimetype": "text/x-python",
   "name": "python",
   "nbconvert_exporter": "python",
   "pygments_lexer": "ipython2",
   "version": "2.7.6"
  }
 },
 "nbformat": 4,
 "nbformat_minor": 0
}
