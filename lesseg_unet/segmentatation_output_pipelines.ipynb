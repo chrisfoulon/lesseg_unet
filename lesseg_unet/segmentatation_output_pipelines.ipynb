{
 "cells": [
  {
   "cell_type": "code",
   "execution_count": 1,
   "outputs": [],
   "source": [
    "import os\n",
    "from copy import deepcopy\n",
    "from pathlib import Path\n",
    "import random\n",
    "import shutil\n",
    "\n",
    "from tqdm import tqdm\n",
    "from pprint import pprint\n",
    "import pandas as pd\n",
    "import numpy as np\n",
    "import nibabel as nib\n",
    "\n",
    "from bcblib.tools.general_utils import open_json, save_json\n",
    "from lesseg_unet.utils import get_sex_int, get_age_int\n",
    "\n",
    "%load_ext autoreload\n",
    "%autoreload 2"
   ],
   "metadata": {
    "collapsed": false,
    "ExecuteTime": {
     "end_time": "2023-08-29T10:00:39.178714532Z",
     "start_time": "2023-08-29T10:00:36.161970276Z"
    }
   }
  },
  {
   "cell_type": "code",
   "execution_count": 35,
   "outputs": [],
   "source": [
    "from lesseg_unet.utils import get_perf_seg_dict, get_perf_seg_dict_from_folders\n",
    "\"\"\"\n",
    "First we need to create a dictionary with the segmentation files and the performance\n",
    "\"\"\"\n",
    "\"\"\"\n",
    "INPUTS\n",
    "\"\"\"\n",
    "# Model trained with abnormals only (but with gen dice + focal loss)\n",
    "# seg_folder = '/media/chrisfoulon/HDD2/final_training_set/abnormal_5fold_segmentation/'\n",
    "# output_folder = '/media/chrisfoulon/HDD2/final_training_set/perf_labels_analyses_abnormal_5fold_segmentation/'\n",
    "# Model trained with both abnormals and ALL the controls (but with gen dice + focal loss)\n",
    "# seg_folder = '/media/chrisfoulon/HDD2/final_training_set/controls_trained_5fold_segmentation/'\n",
    "# output_folder = '/media/chrisfoulon/HDD2/final_training_set/perf_labels_analyses_controls_5fold_segmentation/'\n",
    "# Model trained with both abnormals and the controls (but with gen dice + focal loss) without  biobank images\n",
    "# seg_folder = '/media/chrisfoulon/HDD2/final_training_set/training_with_controls_gendice_focal_no_biobank_segmentation'\n",
    "# output_folder = '/media/chrisfoulon/HDD2/final_training_set/perf_labels_training_with_controls_gendice_focal_no_biobank/'\n",
    "\n",
    "# Model trained with both abnormals and ALL the controls with dice + focal loss and a 0.1 weight on control loss\n",
    "# seg_folder = '/media/chrisfoulon/HDD2/final_training_set/control_training_wf_div10_dicefocal'\n",
    "# output_folder = '/media/chrisfoulon/HDD2/final_training_set/perf_labels_control_training_wf_div10_dicefocal/'\n",
    "# Model trained with both abnormals and ALL the controls with dice + focal loss and a 0.001 weight on control loss\n",
    "# seg_folder = '/media/chrisfoulon/HDD2/final_training_set/control_training_wf_div1000_dicefocal'\n",
    "# output_folder = '/media/chrisfoulon/HDD2/final_training_set/perf_labels_control_training_wf_div1000_dicefocal/'\n",
    "\n",
    "# Simple UNet trained with abnormals only and without any augmentation\n",
    "# seg_folder = '/media/chrisfoulon/HDD2/final_training_set/abnormal_training_no_augs_unet'\n",
    "# output_folder = '/media/chrisfoulon/HDD2/final_training_set/perf_labels_abnormal_training_no_augs_unet/'\n",
    "\n",
    "# /media/chrisfoulon/HDD2/final_training_set/abnormal_segmentation_dice_focal\n",
    "seg_folder = '/media/chrisfoulon/HDD2/final_training_set/abnormal_segmentation_dice_focal'\n",
    "output_folder = '/media/chrisfoulon/HDD2/final_training_set/perf_labels_abnormal_segmentation_dice_focal/'\n"
   ],
   "metadata": {
    "collapsed": false,
    "ExecuteTime": {
     "end_time": "2023-09-04T14:15:35.705077966Z",
     "start_time": "2023-09-04T14:15:35.032006053Z"
    }
   }
  },
  {
   "cell_type": "code",
   "execution_count": 36,
   "metadata": {
    "collapsed": true,
    "ExecuteTime": {
     "end_time": "2023-09-04T14:20:21.956164076Z",
     "start_time": "2023-09-04T14:15:38.890771892Z"
    }
   },
   "outputs": [
    {
     "name": "stdout",
     "output_type": "stream",
     "text": [
      "process from folders\n"
     ]
    },
    {
     "name": "stderr",
     "output_type": "stream",
     "text": [
      "100%|██████████| 713/713 [00:31<00:00, 22.74it/s]\n",
      "100%|██████████| 713/713 [00:31<00:00, 22.83it/s]\n",
      "100%|██████████| 713/713 [00:31<00:00, 22.66it/s]\n",
      "100%|██████████| 712/712 [00:31<00:00, 22.28it/s]\n",
      "100%|██████████| 712/712 [00:31<00:00, 22.60it/s]\n",
      "/tmp/ipykernel_8566/868534614.py:13: DeprecationWarning: Sampling from a set deprecated\n",
      "since Python 3.9 and will be removed in a subsequent version.\n",
      "  pprint({k: seg_dict[k] for k in random.sample(seg_dict.keys(), 1)})\n"
     ]
    },
    {
     "name": "stdout",
     "output_type": "stream",
     "text": [
      "{'wodctH25_b1000_clmp_b1000_40620284_M_19560619_20110512_SIEMENS_Avanto_15_MRHead_ep2d_diff_3scan_ep_b1000t_1': {'Unnamed: 0': 527,\n",
      "                                                                                                                 'b1000': '/media/chrisfoulon/HDD2/final_training_set/cleaned_abnormal_images/wodctH25_b1000_clmp_b1000_40620284_M_19560619_20110512_SIEMENS_Avanto_15_MRHead_ep2d_diff_3scan_ep_b1000t_1.nii.gz',\n",
      "                                                                                                                 'core_filename': 'wodctH25_b1000_clmp_b1000_40620284_M_19560619_20110512_SIEMENS_Avanto_15_MRHead_ep2d_diff_3scan_ep_b1000t_1_v1642v',\n",
      "                                                                                                                 'dice_metric': 0.9434977769851683,\n",
      "                                                                                                                 'distance': 1.0,\n",
      "                                                                                                                 'label': '/media/chrisfoulon/HDD2/final_training_set/abnormal_segmentation_dice_focal/fold_1/val_images/R_Precentral/label_wodctH25_b1000_clmp_b1000_40620284_M_19560619_20110512_SIEMENS_Avanto_15_MRHead_ep2d_diff_3scan_ep_b1000t_1_v1642v_527.nii.gz',\n",
      "                                                                                                                 'segmentation': '/media/chrisfoulon/HDD2/final_training_set/abnormal_segmentation_dice_focal/fold_1/val_images/R_Precentral/output_wodctH25_b1000_clmp_b1000_40620284_M_19560619_20110512_SIEMENS_Avanto_15_MRHead_ep2d_diff_3scan_ep_b1000t_1_v1642v_527.nii.gz',\n",
      "                                                                                                                 'volume': 1642}}\n"
     ]
    },
    {
     "name": "stderr",
     "output_type": "stream",
     "text": [
      "100%|██████████| 3563/3563 [02:05<00:00, 28.48it/s]\n",
      "/tmp/ipykernel_8566/868534614.py:29: DeprecationWarning: Sampling from a set deprecated\n",
      "since Python 3.9 and will be removed in a subsequent version.\n",
      "  pprint({k: seg_dict[k] for k in random.sample(seg_dict.keys(), 1)})\n"
     ]
    },
    {
     "name": "stdout",
     "output_type": "stream",
     "text": [
      "3563\n",
      "{'wodctH25_b1000_clmp_b1000_40568395_F_19490118_20101119_SIEMENS_Avanto_15_MRHead_ep2d_diff_3scan_ipat_ep_b1000t_1': {'Unnamed: 0': 64,\n",
      "                                                                                                                      'b1000': '/media/chrisfoulon/HDD2/final_training_set/cleaned_abnormal_images/wodctH25_b1000_clmp_b1000_40568395_F_19490118_20101119_SIEMENS_Avanto_15_MRHead_ep2d_diff_3scan_ipat_ep_b1000t_1.nii.gz',\n",
      "                                                                                                                      'core_filename': 'wodctH25_b1000_clmp_b1000_40568395_F_19490118_20101119_SIEMENS_Avanto_15_MRHead_ep2d_diff_3scan_ipat_ep_b1000t_1_v329v',\n",
      "                                                                                                                      'dice_metric': 0.945945918560028,\n",
      "                                                                                                                      'distance': 1.0,\n",
      "                                                                                                                      'label': '/media/chrisfoulon/HDD2/final_training_set/abnormal_segmentation_dice_focal/fold_3/val_images/L_Thalamoperforators/label_wodctH25_b1000_clmp_b1000_40568395_F_19490118_20101119_SIEMENS_Avanto_15_MRHead_ep2d_diff_3scan_ipat_ep_b1000t_1_v329v_64.nii.gz',\n",
      "                                                                                                                      'segmentation': '/media/chrisfoulon/HDD2/final_training_set/abnormal_segmentation_dice_focal/fold_3/val_images/L_Thalamoperforators/output_wodctH25_b1000_clmp_b1000_40568395_F_19490118_20101119_SIEMENS_Avanto_15_MRHead_ep2d_diff_3scan_ipat_ep_b1000t_1_v329v_64.nii.gz',\n",
      "                                                                                                                      'volume': 329}}\n"
     ]
    }
   ],
   "source": [
    "\n",
    "\n",
    "spm_seg_folder = Path(output_folder, 'spm_segmentation')\n",
    "os.makedirs(output_folder, exist_ok=True)\n",
    "os.makedirs(spm_seg_folder, exist_ok=True)\n",
    "\n",
    "keys_struct = open_json('/media/chrisfoulon/HDD2/final_training_set/cleaned_abnormal_b1000_info_dict.json')\n",
    "\n",
    "if Path(seg_folder, '__output_image_volumes.json').exists():\n",
    "    seg_dict = get_perf_seg_dict(seg_folder, keys_struct=keys_struct, relative_output_paths=False)\n",
    "else:\n",
    "    print('process from folders')\n",
    "    seg_dict = get_perf_seg_dict_from_folders(seg_folder, keys_struct=keys_struct, relative_output_paths=False)\n",
    "# print first value of the dict\n",
    "pprint({k: seg_dict[k] for k in random.sample(seg_dict.keys(), 1)})\n",
    "# Then we need to copy the segmentation files to a separate folder for SPM ...\n",
    "output_masks_folder = Path(output_folder, 'output_masks/')\n",
    "output_labels_folder = Path(output_folder, 'output_labels/')\n",
    "os.makedirs(output_masks_folder, exist_ok=True)\n",
    "os.makedirs(output_labels_folder, exist_ok=True)\n",
    "spm_seg_dict = {}\n",
    "main_key_to_process = 'label'\n",
    "# main_key_to_process = 'segmentation'\n",
    "for k in tqdm(seg_dict):\n",
    "    shutil.copy(seg_dict[k]['segmentation'], output_masks_folder)\n",
    "    shutil.copy(seg_dict[k]['label'], output_labels_folder)\n",
    "    spm_seg_dict[k] = deepcopy(seg_dict[k])\n",
    "    spm_seg_dict[k][main_key_to_process] = str(Path(spm_seg_folder, Path(seg_dict[k][main_key_to_process]).name.split('.gz')[0]))\n",
    "    nib.save(nib.load(seg_dict[k][main_key_to_process]), spm_seg_dict[k][main_key_to_process])\n",
    "print(len(seg_dict))\n",
    "pprint({k: seg_dict[k] for k in random.sample(seg_dict.keys(), 1)})\n",
    "\n",
    "save_json(Path(seg_folder, 'perf_seg_dict.json'), seg_dict)\n",
    "save_json(Path(seg_folder, 'spm_perf_seg_dict.json'), spm_seg_dict)"
   ]
  },
  {
   "cell_type": "code",
   "execution_count": 37,
   "outputs": [],
   "source": [
    "\"\"\"\n",
    "Then we need to create a dataframe with the performance metrics\n",
    "\"\"\"\n",
    "columns=[main_key_to_process, 'dice_metric', 'distance', 'volume', 'lesion_cluster', 'PatientAge', 'PatientSex']\n",
    "b1000_info_dict = open_json('/media/chrisfoulon/HDD2/final_training_set/cleaned_abnormal_b1000_info_dict.json')\n",
    "\n",
    "\n",
    "# dict_for_df = {}\n",
    "# for k in seg_dict:\n",
    "#     for col in columns:\n",
    "#         if col in seg_dict:\n",
    "#             dict_for_df[k][col] = seg_dict[k][col]\n",
    "#         else:\n",
    "#             dict_for_df[k][col] = b1000_info_dict[k][col]\n",
    "#\n",
    "# pprint({k: dict_for_df[k] for k in random.sample(dict_for_df.keys(), 1)})\n",
    "# new_df = pd.DataFrame.from_records(dict_for_df).T\n",
    "# new_df.to_csv(Path(seg_folder, 'segmentation_perf_df.csv'), columns=columns)\n",
    "\n",
    "# create a function to do that\n",
    "def get_df_from_dict(seg_dict, columns):\n",
    "    dict_for_df = {}\n",
    "    for k in seg_dict:\n",
    "        dict_for_df[k] = {}\n",
    "        for col in columns:\n",
    "            if col in seg_dict[k]:\n",
    "                if col == 'PatientAge':\n",
    "                    dict_for_df[k][col] = get_age_int(seg_dict[k][col])\n",
    "                elif col == 'PatientSex':\n",
    "                    dict_for_df[k][col] = get_sex_int(seg_dict[k][col])\n",
    "                else:\n",
    "                    dict_for_df[k][col] = seg_dict[k][col]\n",
    "            elif col == 'lesion_cluster':\n",
    "                dict_for_df[k][col] = Path(seg_dict[k][main_key_to_process]).parent.name\n",
    "            else:\n",
    "                if col == 'PatientAge':\n",
    "                    dict_for_df[k][col] = get_age_int(b1000_info_dict[k][col])\n",
    "                elif col == 'PatientSex':\n",
    "                    dict_for_df[k][col] = get_sex_int(b1000_info_dict[k][col])\n",
    "                else:\n",
    "                    dict_for_df[k][col] = b1000_info_dict[k][col]\n",
    "    new_df = pd.DataFrame.from_records(dict_for_df).T\n",
    "    return new_df\n",
    "\n",
    "# use it on seg_dict and spm_seg_dict\n",
    "new_df = get_df_from_dict(seg_dict, columns)\n",
    "new_df.to_csv(Path(output_folder, 'segmentation_perf_df.csv'), columns=columns)\n",
    "new_df = get_df_from_dict(spm_seg_dict, columns)\n",
    "new_df.to_csv(Path(output_folder, 'spm_segmentation_perf_df.csv'), columns=columns)"
   ],
   "metadata": {
    "collapsed": false,
    "ExecuteTime": {
     "end_time": "2023-09-04T14:20:22.298497535Z",
     "start_time": "2023-09-04T14:20:21.961091522Z"
    }
   }
  },
  {
   "cell_type": "code",
   "execution_count": 38,
   "outputs": [],
   "source": [
    "\"\"\"\n",
    "Then we need to zscore the columns\n",
    "\"\"\"\n",
    "zcores_columns = ['dice_metric', 'distance', 'volume', 'PatientAge', 'PatientSex']\n",
    "for col in zcores_columns:\n",
    "    # pd.to_numeric(new_df[col])\n",
    "    new_df[col] = new_df[col].infer_objects()\n",
    "#     print(col)\n",
    "#     print(new_df[col].dtype)\n",
    "#     new_df[col] = new_df[col].apply(stats.zscore)\n",
    "normalized_df = new_df[zcores_columns]\n",
    "normalized_df=(normalized_df-normalized_df.mean())/normalized_df.std()\n",
    "normalized_df=(normalized_df-normalized_df.min())/(normalized_df.max()-normalized_df.min())\n",
    "new_df[zcores_columns] = normalized_df[zcores_columns]\n",
    "new_df.to_csv(Path(seg_folder, 'segmentation_perf_df_zscored.csv'), columns=columns)"
   ],
   "metadata": {
    "collapsed": false,
    "ExecuteTime": {
     "end_time": "2023-09-04T14:20:22.401213992Z",
     "start_time": "2023-09-04T14:20:22.300680237Z"
    }
   }
  },
  {
   "cell_type": "code",
   "execution_count": 39,
   "outputs": [
    {
     "name": "stderr",
     "output_type": "stream",
     "text": [
      "100%|██████████| 3563/3563 [03:40<00:00, 16.14it/s]\n"
     ]
    }
   ],
   "source": [
    "from nilearn.image import smooth_img\n",
    "# smooth all the images from the segmentation dict with key 'segmentation' and save them in '/media/chrisfoulon/HDD2/final_training_set/abnormal_5fold_segmentation_masks_smoothed_8'\n",
    "smooth_out_folder = output_folder + 'masks_smoothed_8'\n",
    "os.makedirs(smooth_out_folder, exist_ok=True)\n",
    "spm_smoothed_seg_dict = {}\n",
    "for k in tqdm(spm_seg_dict):\n",
    "    smoothed_img = smooth_img(spm_seg_dict[k][main_key_to_process], 8)\n",
    "    spm_smoothed_seg_dict[k] = deepcopy(spm_seg_dict[k])\n",
    "    spm_smoothed_seg_dict[k][main_key_to_process] = str(Path(smooth_out_folder, Path(spm_seg_dict[k][main_key_to_process]).name))\n",
    "    nib.save(smoothed_img, spm_smoothed_seg_dict[k][main_key_to_process])\n",
    "\n"
   ],
   "metadata": {
    "collapsed": false,
    "ExecuteTime": {
     "end_time": "2023-09-04T14:24:03.314077002Z",
     "start_time": "2023-09-04T14:20:22.404897021Z"
    }
   }
  },
  {
   "cell_type": "code",
   "execution_count": 40,
   "outputs": [],
   "source": [
    "new_df = get_df_from_dict(spm_smoothed_seg_dict, columns)\n",
    "new_df.to_csv(Path(output_folder, 'spm_smoothed_segmentation_perf_df.csv'), columns=columns)\n",
    "# STOP HERE FOR SIMPLE MODEL/DICE SPM COMPARISON"
   ],
   "metadata": {
    "collapsed": false,
    "ExecuteTime": {
     "end_time": "2023-09-04T14:24:03.445678461Z",
     "start_time": "2023-09-04T14:24:03.301238267Z"
    }
   }
  },
  {
   "cell_type": "code",
   "execution_count": 4,
   "outputs": [],
   "source": [
    "# Now, we use the spm_smoothed_segmentation_perf_df.csv from each directory in model_perf_dir_list and create a new multi_model_dice_comparison_df\n",
    "model_perf_dir_list = [\n",
    "    '/media/chrisfoulon/HDD2/final_training_set/perf_labels_analyses_abnormal_5fold_segmentation',\n",
    "    '/media/chrisfoulon/HDD2/final_training_set/perf_labels_control_training_wf_div10_dicefocal',\n",
    "    '/media/chrisfoulon/HDD2/final_training_set/perf_labels_control_training_wf_div1000_dicefocal',\n",
    "    '/media/chrisfoulon/HDD2/final_training_set/perf_labels_training_with_controls_gendice_focal_no_biobank'\n",
    "]\n",
    "\n",
    "model_perf_df_list = [\n",
    "    pd.read_csv(Path(model_perf_dir, 'spm_smoothed_segmentation_perf_df.csv'), index_col=0)\n",
    "    for model_perf_dir in model_perf_dir_list\n",
    "]\n",
    "\n",
    "multi_model_dice_comparison_df = pd.DataFrame()\n",
    "# add the 'label' column of the first df to multi_model_dice_comparison_df\n",
    "multi_model_dice_comparison_df['label'] = model_perf_df_list[0]['label']\n",
    "# add the 'dice_metric' column of each df to multi_model_dice_comparison_df (with folder name as column name + '_dice_metric')\n",
    "for i, model_perf_df in enumerate(model_perf_df_list):\n",
    "    multi_model_dice_comparison_df[model_perf_dir_list[i].split('/')[-1] + '_dice_metric'] = model_perf_df['dice_metric']\n",
    "\n",
    "b1000_ground_truths_label_seize_dict = open_json('/media/chrisfoulon/HDD2/final_training_set/cleaned_abnormal_b1000_info_dict_label_size.json')\n",
    "\n",
    "# keys in b1000_ground_truths_label_seize_dict are the same as in multi_model_dice_comparison_df[0] first column. Match them and add the label size to multi_model_dice_comparison_df\n",
    "multi_model_dice_comparison_df['label_size'] = [b1000_ground_truths_label_seize_dict[k]['label_size']  for k in multi_model_dice_comparison_df.index]\n",
    "\n",
    "# save the multi_model_dice_comparison_df\n",
    "multi_model_dice_comparison_df.to_csv('/media/chrisfoulon/HDD2/final_training_set/multi_model_dice_comparison_df.csv', columns=multi_model_dice_comparison_df.columns)"
   ],
   "metadata": {
    "collapsed": false,
    "ExecuteTime": {
     "end_time": "2023-08-23T14:47:59.097698660Z",
     "start_time": "2023-08-23T14:47:58.924635106Z"
    }
   }
  },
  {
   "cell_type": "code",
   "execution_count": null,
   "outputs": [],
   "source": [
    "from lesseg_unet.utils import weight_lesion_dataset\n",
    "\n",
    "biobank_ctr_folder_name = 'perf_analyses_controls_5fold_segmentation'\n",
    "no_biobank_ctr_folder_name = 'perf_training_with_controls_gendice_focal_no_biobank'\n",
    "ctr_folder_name = no_biobank_ctr_folder_name\n",
    "\n",
    "abnormal_df_path = Path('/media/chrisfoulon/HDD2/final_training_set/perf_analyses_abnormal_5fold_segmentation/', 'spm_smoothed_segmentation_perf_df.csv')\n",
    "controls_df_path = Path(f'/media/chrisfoulon/HDD2/final_training_set/{ctr_folder_name}/', 'spm_smoothed_segmentation_perf_df.csv')\n",
    "\n",
    "abnormal_weighted_output_folder = Path('/media/chrisfoulon/HDD2/final_training_set/perf_analyses_abnormal_5fold_segmentation/', 'dice_weighted_smoothed_lesions')\n",
    "controls_weighted_output_folder = Path(f'/media/chrisfoulon/HDD2/final_training_set/{ctr_folder_name}/', 'dice_weighted_smoothed_lesions')\n",
    "\n",
    "# weight the images of the abnormal dataset\n",
    "abnormal_weighted_dict, abnormal_weighted_df = weight_lesion_dataset(abnormal_df_path, 'segmentation', 'dice_metric', abnormal_weighted_output_folder, 'Unnamed: 0')\n",
    "# save the weighted dataframe\n",
    "abnormal_weighted_df.to_csv(Path('/media/chrisfoulon/HDD2/final_training_set/perf_analyses_abnormal_5fold_segmentation/', 'dice_weighted_smoothed_lesions_segmentation_perf_df.csv'), columns=abnormal_weighted_df.columns)\n",
    "\n",
    "# weight the images of the controls dataset\n",
    "controls_weighted_dict, controls_weighted_df = weight_lesion_dataset(controls_df_path, 'segmentation', 'dice_metric', controls_weighted_output_folder, 'Unnamed: 0')\n",
    "# save the weighted dataframe\n",
    "controls_weighted_df.to_csv(Path(f'/media/chrisfoulon/HDD2/final_training_set/{ctr_folder_name}/', 'dice_weighted_smoothed_lesions_segmentation_perf_df.csv'), columns=controls_weighted_df.columns)\n",
    "\n",
    "\n",
    "# for each row in abnormal_weighted_df, find the corresponding row in controls_weighted_df using 'Unnamed: 0'\n",
    "# then compute the substraction of the nifti images in 'weighted_path' and save the result in a new folder\n",
    "dice_substraction_folder = Path('/media/chrisfoulon/HDD2/final_training_set/', 'dice_subtraction_smoothed_lesions_no_biobank')\n",
    "os.makedirs(dice_substraction_folder, exist_ok=True)\n",
    "for row in tqdm(abnormal_weighted_df.iterrows()):\n",
    "    key = row[1]['Unnamed: 0']\n",
    "    abnormal_path = row[1]['weighted_path']\n",
    "    abnormal_nifti = nib.load(abnormal_path)\n",
    "    abnormal_data = abnormal_nifti.get_fdata()\n",
    "    control_path = controls_weighted_df[controls_weighted_df['Unnamed: 0'] == key]['weighted_path'].values[0]\n",
    "    control_nifti = nib.load(control_path)\n",
    "    control_data = control_nifti.get_fdata()\n",
    "    dice_substraction = abnormal_data - control_data\n",
    "    dice_substraction_nifti = nib.Nifti1Image(dice_substraction, affine=abnormal_nifti.affine)\n",
    "    nib.save(dice_substraction_nifti, Path(dice_substraction_folder, Path(abnormal_path).name.replace('.nii.gz', '.nii')))"
   ],
   "metadata": {
    "collapsed": false
   }
  },
  {
   "cell_type": "code",
   "execution_count": 4,
   "outputs": [],
   "source": [
    "# Now, we want to compute the mean dice_metric between a list of perf_seg_dict and save the {key: 'mean_dice_metric': value, 'mean_distance': value_average_distance} in a new dict\n",
    "perf_seg_dict_list = [\n",
    "    open_json('/media/chrisfoulon/HDD2/final_training_set/abnormal_5fold_segmentation/perf_seg_dict.json'),\n",
    "    open_json('/media/chrisfoulon/HDD2/final_training_set/controls_trained_5fold_segmentation/perf_seg_dict.json'),\n",
    "    open_json('/media/chrisfoulon/HDD2/final_training_set/training_with_controls_gendice_focal_no_biobank_segmentation/perf_seg_dict.json'),\n",
    "    open_json('/media/chrisfoulon/HDD2/final_training_set/control_training_wf_div10_dicefocal/perf_seg_dict.json'),\n",
    "    open_json('/media/chrisfoulon/HDD2/final_training_set/control_training_wf_div1000_dicefocal/perf_seg_dict.json')\n",
    "]\n",
    "\n",
    "mean_dice_dict = {}\n",
    "for k in perf_seg_dict_list[0]:\n",
    "    mean_dice_dict[k] = {}\n",
    "    mean_dice_dict[k]['mean_dice_metric'] = np.mean([d[k]['dice_metric'] for d in perf_seg_dict_list])\n",
    "    mean_dice_dict[k]['mean_distance'] = np.mean([d[k]['distance'] for d in perf_seg_dict_list])\n",
    "    \n",
    "# sort the dict by mean_dice_metric (ascending)\n",
    "mean_dice_dict = {k: v for k, v in sorted(mean_dice_dict.items(), key=lambda item: item[1]['mean_dice_metric'])}\n",
    "    \n",
    "save_json(Path('/media/chrisfoulon/HDD2/final_training_set/', 'mean_dice_dict.json'), mean_dice_dict)"
   ],
   "metadata": {
    "collapsed": false,
    "ExecuteTime": {
     "end_time": "2023-08-25T08:08:46.945131970Z",
     "start_time": "2023-08-25T08:08:46.716884744Z"
    }
   }
  },
  {
   "cell_type": "code",
   "execution_count": null,
   "outputs": [],
   "source": [],
   "metadata": {
    "collapsed": false
   }
  },
  {
   "cell_type": "code",
   "execution_count": 4,
   "outputs": [
    {
     "name": "stdout",
     "output_type": "stream",
     "text": [
      "DTI_P6d_noniso_SENSE_20150731120209_301__pref__\n",
      "0.0\n",
      "0.0\n",
      "DTI_P6d_noniso_SENSE_20180301104234_201__pref__\n",
      "0.0\n",
      "0.0\n",
      "DTI_P6d_noniso_SENSE_20160618125529_201__pref__\n",
      "0.0\n",
      "0.0\n",
      "ep2d_diff_3scan_trace_20070324110557_9__pref__\n",
      "0.0\n",
      "0.0\n",
      "ep2d_diff_3scan_ipat_20141022143252_6__pref__\n",
      "0.0\n",
      "0.0\n",
      "DTI_P6d_noniso_SENSE_20160722100258_201__pref__\n",
      "0.0\n",
      "0.0\n",
      "DTI_P6d_noniso_SENSE_20160711083742_201__pref__\n",
      "0.0\n",
      "0.0\n",
      "DTI_P6d_noniso_20190112135713_201__pref__\n",
      "0.9755767226219177\n",
      "0.0\n",
      "1.3.46.670589.11.38075.5.0.1820.2018040815523831006_20180408155238_201__pref__\n",
      "0.9875420689582824\n",
      "0.0\n",
      "DTI_P6d_noniso_20190315163801_201__pref__\n",
      "0.987842321395874\n",
      "0.0\n",
      "1.2.840.846310145.12.1.1.60286619_20180831163807_201__pref__\n",
      "0.9879709959030152\n",
      "0.0\n",
      "1.2.840.846310145.12.1.1.60317294_20180915142847_201__pref__\n",
      "0.9880144834518433\n",
      "0.0\n",
      "1.2.840.846310145.12.1.1.60692052_20190315163801_201__pref__\n",
      "0.9884455084800721\n",
      "0.0\n",
      "DTI_P6d_noniso_SENSE_20180718155058_201__pref__\n",
      "0.9889434337615967\n",
      "0.0\n",
      "DTI_P6d_noniso_SENSE_20151214153600_301__pref__\n",
      "0.9917016506195069\n",
      "0.0\n",
      "1.3.46.670589.11.38075.5.0.7820.2018061815260958016_20180618152609_201__pref__\n",
      "0.9957446813583374\n",
      "0.0\n",
      "DTI_P6d_noniso_20190203105404_201__pref__\n",
      "0.9962264180183411\n",
      "0.0\n",
      "Reg_-_DTI_medium_iso_SENSE_20150305155046_606__pref__\n",
      "1.0\n",
      "0.0\n",
      "DTI_medium_iso_SENSE_20150305155046_601__pref__\n",
      "1.0\n",
      "0.0\n",
      "DTI_P6d_noniso_SENSE_20180912153503_201__pref__\n",
      "1.0\n",
      "0.0\n"
     ]
    }
   ],
   "source": [
    "mean_dice_dict = open_json('/media/chrisfoulon/HDD2/final_training_set/mean_dice_dict.json')\n",
    "# print all values with mean_distance = 0\n",
    "for k in mean_dice_dict:\n",
    "    if mean_dice_dict[k]['mean_distance'] == 0:\n",
    "        print(k)\n",
    "        print(mean_dice_dict[k]['mean_dice_metric'])\n",
    "        print(mean_dice_dict[k]['mean_distance'])"
   ],
   "metadata": {
    "collapsed": false,
    "ExecuteTime": {
     "end_time": "2023-08-29T10:11:35.738420326Z",
     "start_time": "2023-08-29T10:11:35.653021195Z"
    }
   }
  },
  {
   "cell_type": "code",
   "execution_count": 12,
   "outputs": [
    {
     "name": "stdout",
     "output_type": "stream",
     "text": [
      "DTI_P6d_noniso_SENSE_20151112143421_301__pref__\n",
      "0.04636363759636878\n",
      "2.9771296018981586\n",
      "Fsleyes command: \"fsleyes /media/chrisfoulon/HDD2/final_training_set/cleaned_abnormal_images/non_linear_co-rigid_rigid_geomean_denoise_DTI_P6d_noniso_SENSE_20151112143421_301__pref___bval1000.nii.gz /media/chrisfoulon/HDD2/final_training_set/control_training_wf_div10_dicefocal/fold_2/val_images/empty_prediction/label_non_linear_co-rigid_rigid_geomean_denoise_DTI_P6d_noniso_SENSE_20151112143421_301__pref___bval1000_v0v_71.nii.gz -cm red -a 40 /media/chrisfoulon/HDD2/final_training_set/control_training_wf_div10_dicefocal/fold_2/val_images/empty_prediction/output_non_linear_co-rigid_rigid_geomean_denoise_DTI_P6d_noniso_SENSE_20151112143421_301__pref___bval1000_v0v_71.nii.gz -cm green -a 40\"\n",
      "Error/Warning during fsleyes execution\n",
      "exit status: 0\n",
      "stderr: given by the platformdirs library.  To remove this warning and\n",
      "see the appropriate new directories, set the environment variable\n",
      "`JUPYTER_PLATFORM_DIRS=1` and then run `jupyter --paths`.\n",
      "The use of platformdirs will be the default in `jupyter_core` v6\n",
      "  from jupyter_core.paths import jupyter_data_dir, jupyter_runtime_dir, secure_write\n",
      "\n",
      "DTI_P6d_noniso_SENSE_20170926142705_301__pref__\n",
      "0.10149941295385356\n",
      "1.8545679327339482\n",
      "Fsleyes command: \"fsleyes /media/chrisfoulon/HDD2/final_training_set/cleaned_abnormal_images/non_linear_co-rigid_rigid_geomean_denoise_DTI_P6d_noniso_SENSE_20170926142705_301__pref___bval1000.nii.gz /media/chrisfoulon/HDD2/final_training_set/control_training_wf_div10_dicefocal/fold_2/val_images/R_Long_insular_perforating/label_non_linear_co-rigid_rigid_geomean_denoise_DTI_P6d_noniso_SENSE_20170926142705_301__pref___bval1000_v14v_139.nii.gz -cm red -a 40 /media/chrisfoulon/HDD2/final_training_set/control_training_wf_div10_dicefocal/fold_2/val_images/R_Long_insular_perforating/output_non_linear_co-rigid_rigid_geomean_denoise_DTI_P6d_noniso_SENSE_20170926142705_301__pref___bval1000_v14v_139.nii.gz -cm green -a 40\"\n"
     ]
    },
    {
     "ename": "KeyboardInterrupt",
     "evalue": "",
     "output_type": "error",
     "traceback": [
      "\u001B[0;31m---------------------------------------------------------------------------\u001B[0m",
      "\u001B[0;31mKeyboardInterrupt\u001B[0m                         Traceback (most recent call last)",
      "Cell \u001B[0;32mIn[12], line 17\u001B[0m\n\u001B[1;32m     15\u001B[0m \u001B[38;5;28mprint\u001B[39m(mean_dice_dict[k][\u001B[38;5;124m'\u001B[39m\u001B[38;5;124mmean_distance\u001B[39m\u001B[38;5;124m'\u001B[39m])\n\u001B[1;32m     16\u001B[0m \u001B[38;5;66;03m# display_img(perf_seg_dict_list[-2][k]['b1000'], perf_seg_dict_list[-2][k]['label'], display='fsleyes')\u001B[39;00m\n\u001B[0;32m---> 17\u001B[0m \u001B[43mdisplay_img\u001B[49m\u001B[43m(\u001B[49m\u001B[43mperf_seg_dict_list\u001B[49m\u001B[43m[\u001B[49m\u001B[38;5;241;43m-\u001B[39;49m\u001B[38;5;241;43m2\u001B[39;49m\u001B[43m]\u001B[49m\u001B[43m[\u001B[49m\u001B[43mk\u001B[49m\u001B[43m]\u001B[49m\u001B[43m[\u001B[49m\u001B[38;5;124;43m'\u001B[39;49m\u001B[38;5;124;43mb1000\u001B[39;49m\u001B[38;5;124;43m'\u001B[39;49m\u001B[43m]\u001B[49m\u001B[43m,\u001B[49m\u001B[43m \u001B[49m\u001B[43mperf_seg_dict_list\u001B[49m\u001B[43m[\u001B[49m\u001B[38;5;241;43m-\u001B[39;49m\u001B[38;5;241;43m2\u001B[39;49m\u001B[43m]\u001B[49m\u001B[43m[\u001B[49m\u001B[43mk\u001B[49m\u001B[43m]\u001B[49m\u001B[43m[\u001B[49m\u001B[38;5;124;43m'\u001B[39;49m\u001B[38;5;124;43mlabel\u001B[39;49m\u001B[38;5;124;43m'\u001B[39;49m\u001B[43m]\u001B[49m\u001B[43m,\u001B[49m\u001B[43m \u001B[49m\u001B[43mperf_seg_dict_list\u001B[49m\u001B[43m[\u001B[49m\u001B[38;5;241;43m-\u001B[39;49m\u001B[38;5;241;43m2\u001B[39;49m\u001B[43m]\u001B[49m\u001B[43m[\u001B[49m\u001B[43mk\u001B[49m\u001B[43m]\u001B[49m\u001B[43m[\u001B[49m\u001B[38;5;124;43m'\u001B[39;49m\u001B[38;5;124;43msegmentation\u001B[39;49m\u001B[38;5;124;43m'\u001B[39;49m\u001B[43m]\u001B[49m\u001B[43m,\u001B[49m\u001B[43m \u001B[49m\u001B[43mdisplay\u001B[49m\u001B[38;5;241;43m=\u001B[39;49m\u001B[38;5;124;43m'\u001B[39;49m\u001B[38;5;124;43mfsleyes\u001B[39;49m\u001B[38;5;124;43m'\u001B[39;49m\u001B[43m)\u001B[49m\n",
      "File \u001B[0;32m~/miniconda3/lib/python3.10/site-packages/bcblib/tools/visualisation.py:74\u001B[0m, in \u001B[0;36mdisplay_img\u001B[0;34m(img, over1, over2, display, coord, print_cmd)\u001B[0m\n\u001B[1;32m     71\u001B[0m     \u001B[38;5;28mprint\u001B[39m(\u001B[38;5;124m'\u001B[39m\u001B[38;5;124mFsleyes command: \u001B[39m\u001B[38;5;124m\"\u001B[39m\u001B[38;5;132;01m{}\u001B[39;00m\u001B[38;5;124m\"\u001B[39m\u001B[38;5;124m'\u001B[39m\u001B[38;5;241m.\u001B[39mformat(\u001B[38;5;124m'\u001B[39m\u001B[38;5;124m \u001B[39m\u001B[38;5;124m'\u001B[39m\u001B[38;5;241m.\u001B[39mjoin(fsleyes_command)))\n\u001B[1;32m     72\u001B[0m \u001B[38;5;66;03m# if \"DISPLAY\" not in os.environ:\u001B[39;00m\n\u001B[1;32m     73\u001B[0m \u001B[38;5;66;03m#     os.environ[\"DISPLAY\"] = ':1'\u001B[39;00m\n\u001B[0;32m---> 74\u001B[0m process \u001B[38;5;241m=\u001B[39m \u001B[43msubprocess\u001B[49m\u001B[38;5;241;43m.\u001B[39;49m\u001B[43mrun\u001B[49m\u001B[43m(\u001B[49m\u001B[43mfsleyes_command\u001B[49m\u001B[43m,\u001B[49m\n\u001B[1;32m     75\u001B[0m \u001B[43m                         \u001B[49m\u001B[43mstdout\u001B[49m\u001B[38;5;241;43m=\u001B[39;49m\u001B[43msubprocess\u001B[49m\u001B[38;5;241;43m.\u001B[39;49m\u001B[43mPIPE\u001B[49m\u001B[43m,\u001B[49m\n\u001B[1;32m     76\u001B[0m \u001B[43m                         \u001B[49m\u001B[43mstderr\u001B[49m\u001B[38;5;241;43m=\u001B[39;49m\u001B[43msubprocess\u001B[49m\u001B[38;5;241;43m.\u001B[39;49m\u001B[43mPIPE\u001B[49m\u001B[43m,\u001B[49m\n\u001B[1;32m     77\u001B[0m \u001B[43m                         \u001B[49m\u001B[43muniversal_newlines\u001B[49m\u001B[38;5;241;43m=\u001B[39;49m\u001B[38;5;28;43;01mTrue\u001B[39;49;00m\n\u001B[1;32m     78\u001B[0m \u001B[43m                         \u001B[49m\u001B[43m)\u001B[49m\n\u001B[1;32m     79\u001B[0m \u001B[38;5;28;01mif\u001B[39;00m process\u001B[38;5;241m.\u001B[39mstderr \u001B[38;5;241m!=\u001B[39m \u001B[38;5;124m'\u001B[39m\u001B[38;5;124m'\u001B[39m:\n\u001B[1;32m     80\u001B[0m     \u001B[38;5;28mprint\u001B[39m(\u001B[38;5;124m'\u001B[39m\u001B[38;5;124mError/Warning during fsleyes execution\u001B[39m\u001B[38;5;124m'\u001B[39m)\n",
      "File \u001B[0;32m~/miniconda3/lib/python3.10/subprocess.py:503\u001B[0m, in \u001B[0;36mrun\u001B[0;34m(input, capture_output, timeout, check, *popenargs, **kwargs)\u001B[0m\n\u001B[1;32m    501\u001B[0m \u001B[38;5;28;01mwith\u001B[39;00m Popen(\u001B[38;5;241m*\u001B[39mpopenargs, \u001B[38;5;241m*\u001B[39m\u001B[38;5;241m*\u001B[39mkwargs) \u001B[38;5;28;01mas\u001B[39;00m process:\n\u001B[1;32m    502\u001B[0m     \u001B[38;5;28;01mtry\u001B[39;00m:\n\u001B[0;32m--> 503\u001B[0m         stdout, stderr \u001B[38;5;241m=\u001B[39m \u001B[43mprocess\u001B[49m\u001B[38;5;241;43m.\u001B[39;49m\u001B[43mcommunicate\u001B[49m\u001B[43m(\u001B[49m\u001B[38;5;28;43minput\u001B[39;49m\u001B[43m,\u001B[49m\u001B[43m \u001B[49m\u001B[43mtimeout\u001B[49m\u001B[38;5;241;43m=\u001B[39;49m\u001B[43mtimeout\u001B[49m\u001B[43m)\u001B[49m\n\u001B[1;32m    504\u001B[0m     \u001B[38;5;28;01mexcept\u001B[39;00m TimeoutExpired \u001B[38;5;28;01mas\u001B[39;00m exc:\n\u001B[1;32m    505\u001B[0m         process\u001B[38;5;241m.\u001B[39mkill()\n",
      "File \u001B[0;32m~/miniconda3/lib/python3.10/subprocess.py:1149\u001B[0m, in \u001B[0;36mPopen.communicate\u001B[0;34m(self, input, timeout)\u001B[0m\n\u001B[1;32m   1146\u001B[0m     endtime \u001B[38;5;241m=\u001B[39m \u001B[38;5;28;01mNone\u001B[39;00m\n\u001B[1;32m   1148\u001B[0m \u001B[38;5;28;01mtry\u001B[39;00m:\n\u001B[0;32m-> 1149\u001B[0m     stdout, stderr \u001B[38;5;241m=\u001B[39m \u001B[38;5;28;43mself\u001B[39;49m\u001B[38;5;241;43m.\u001B[39;49m\u001B[43m_communicate\u001B[49m\u001B[43m(\u001B[49m\u001B[38;5;28;43minput\u001B[39;49m\u001B[43m,\u001B[49m\u001B[43m \u001B[49m\u001B[43mendtime\u001B[49m\u001B[43m,\u001B[49m\u001B[43m \u001B[49m\u001B[43mtimeout\u001B[49m\u001B[43m)\u001B[49m\n\u001B[1;32m   1150\u001B[0m \u001B[38;5;28;01mexcept\u001B[39;00m \u001B[38;5;167;01mKeyboardInterrupt\u001B[39;00m:\n\u001B[1;32m   1151\u001B[0m     \u001B[38;5;66;03m# https://bugs.python.org/issue25942\u001B[39;00m\n\u001B[1;32m   1152\u001B[0m     \u001B[38;5;66;03m# See the detailed comment in .wait().\u001B[39;00m\n\u001B[1;32m   1153\u001B[0m     \u001B[38;5;28;01mif\u001B[39;00m timeout \u001B[38;5;129;01mis\u001B[39;00m \u001B[38;5;129;01mnot\u001B[39;00m \u001B[38;5;28;01mNone\u001B[39;00m:\n",
      "File \u001B[0;32m~/miniconda3/lib/python3.10/subprocess.py:2000\u001B[0m, in \u001B[0;36mPopen._communicate\u001B[0;34m(self, input, endtime, orig_timeout)\u001B[0m\n\u001B[1;32m   1993\u001B[0m     \u001B[38;5;28mself\u001B[39m\u001B[38;5;241m.\u001B[39m_check_timeout(endtime, orig_timeout,\n\u001B[1;32m   1994\u001B[0m                         stdout, stderr,\n\u001B[1;32m   1995\u001B[0m                         skip_check_and_raise\u001B[38;5;241m=\u001B[39m\u001B[38;5;28;01mTrue\u001B[39;00m)\n\u001B[1;32m   1996\u001B[0m     \u001B[38;5;28;01mraise\u001B[39;00m \u001B[38;5;167;01mRuntimeError\u001B[39;00m(  \u001B[38;5;66;03m# Impossible :)\u001B[39;00m\n\u001B[1;32m   1997\u001B[0m         \u001B[38;5;124m'\u001B[39m\u001B[38;5;124m_check_timeout(..., skip_check_and_raise=True) \u001B[39m\u001B[38;5;124m'\u001B[39m\n\u001B[1;32m   1998\u001B[0m         \u001B[38;5;124m'\u001B[39m\u001B[38;5;124mfailed to raise TimeoutExpired.\u001B[39m\u001B[38;5;124m'\u001B[39m)\n\u001B[0;32m-> 2000\u001B[0m ready \u001B[38;5;241m=\u001B[39m \u001B[43mselector\u001B[49m\u001B[38;5;241;43m.\u001B[39;49m\u001B[43mselect\u001B[49m\u001B[43m(\u001B[49m\u001B[43mtimeout\u001B[49m\u001B[43m)\u001B[49m\n\u001B[1;32m   2001\u001B[0m \u001B[38;5;28mself\u001B[39m\u001B[38;5;241m.\u001B[39m_check_timeout(endtime, orig_timeout, stdout, stderr)\n\u001B[1;32m   2003\u001B[0m \u001B[38;5;66;03m# XXX Rewrite these to use non-blocking I/O on the file\u001B[39;00m\n\u001B[1;32m   2004\u001B[0m \u001B[38;5;66;03m# objects; they are no longer using C stdio!\u001B[39;00m\n",
      "File \u001B[0;32m~/miniconda3/lib/python3.10/selectors.py:416\u001B[0m, in \u001B[0;36m_PollLikeSelector.select\u001B[0;34m(self, timeout)\u001B[0m\n\u001B[1;32m    414\u001B[0m ready \u001B[38;5;241m=\u001B[39m []\n\u001B[1;32m    415\u001B[0m \u001B[38;5;28;01mtry\u001B[39;00m:\n\u001B[0;32m--> 416\u001B[0m     fd_event_list \u001B[38;5;241m=\u001B[39m \u001B[38;5;28;43mself\u001B[39;49m\u001B[38;5;241;43m.\u001B[39;49m\u001B[43m_selector\u001B[49m\u001B[38;5;241;43m.\u001B[39;49m\u001B[43mpoll\u001B[49m\u001B[43m(\u001B[49m\u001B[43mtimeout\u001B[49m\u001B[43m)\u001B[49m\n\u001B[1;32m    417\u001B[0m \u001B[38;5;28;01mexcept\u001B[39;00m \u001B[38;5;167;01mInterruptedError\u001B[39;00m:\n\u001B[1;32m    418\u001B[0m     \u001B[38;5;28;01mreturn\u001B[39;00m ready\n",
      "\u001B[0;31mKeyboardInterrupt\u001B[0m: "
     ]
    }
   ],
   "source": [
    "from bcblib.tools.visualisation import display_img\n",
    "\n",
    "perf_seg_dict_list = [\n",
    "    open_json('/media/chrisfoulon/HDD2/final_training_set/abnormal_5fold_segmentation/perf_seg_dict.json'),\n",
    "    open_json('/media/chrisfoulon/HDD2/final_training_set/controls_trained_5fold_segmentation/perf_seg_dict.json'),\n",
    "    open_json('/media/chrisfoulon/HDD2/final_training_set/training_with_controls_gendice_focal_no_biobank_segmentation/perf_seg_dict.json'),\n",
    "    open_json('/media/chrisfoulon/HDD2/final_training_set/control_training_wf_div10_dicefocal/perf_seg_dict.json'),\n",
    "    open_json('/media/chrisfoulon/HDD2/final_training_set/control_training_wf_div1000_dicefocal/perf_seg_dict.json')\n",
    "]\n",
    "# For every image with a mean_dice_metric <= 0, display perf_seg_dict_list[-2][k]['b1000'] with display_img\n",
    "for k in mean_dice_dict:\n",
    "    if 0.01 < mean_dice_dict[k]['mean_dice_metric'] <= 0.2 and 0.5 < mean_dice_dict[k]['mean_distance'] < 3:\n",
    "        print(k)\n",
    "        print(mean_dice_dict[k]['mean_dice_metric'])\n",
    "        print(mean_dice_dict[k]['mean_distance'])\n",
    "        # display_img(perf_seg_dict_list[-2][k]['b1000'], perf_seg_dict_list[-2][k]['label'], display='fsleyes')\n",
    "        display_img(perf_seg_dict_list[-2][k]['b1000'], perf_seg_dict_list[-2][k]['label'], perf_seg_dict_list[-2][k]['segmentation'], display='fsleyes')"
   ],
   "metadata": {
    "collapsed": false,
    "ExecuteTime": {
     "end_time": "2023-08-29T11:44:53.681112249Z",
     "start_time": "2023-08-29T10:25:55.723885829Z"
    }
   }
  },
  {
   "cell_type": "code",
   "execution_count": 12,
   "outputs": [
    {
     "data": {
      "text/plain": "<Figure size 640x480 with 1 Axes>",
      "image/png": "[encoded data removed]"
     },
     "metadata": {},
     "output_type": "display_data"
    }
   ],
   "source": [
    "# plot the distribution of the mean_dice_metric\n",
    "import matplotlib.pyplot as plt\n",
    "plt.hist([mean_dice_dict[k]['mean_dice_metric'] for k in mean_dice_dict], bins=50)\n",
    "plt.show()"
   ],
   "metadata": {
    "collapsed": false,
    "ExecuteTime": {
     "end_time": "2023-08-25T14:25:13.817813266Z",
     "start_time": "2023-08-25T14:25:13.510686071Z"
    }
   }
  },
  {
   "cell_type": "code",
   "execution_count": null,
   "outputs": [],
   "source": [
    "perf_seg_dict_list = [\n",
    "    open_json('/media/chrisfoulon/HDD2/final_training_set/abnormal_5fold_segmentation/perf_seg_dict.json'),\n",
    "    open_json('/media/chrisfoulon/HDD2/final_training_set/controls_trained_5fold_segmentation/perf_seg_dict.json'),\n",
    "    open_json('/media/chrisfoulon/HDD2/final_training_set/training_with_controls_gendice_focal_no_biobank_segmentation/perf_seg_dict.json'),\n",
    "    open_json('/media/chrisfoulon/HDD2/final_training_set/control_training_wf_div10_dicefocal/perf_seg_dict.json'),\n",
    "    open_json('/media/chrisfoulon/HDD2/final_training_set/control_training_wf_div1000_dicefocal/perf_seg_dict.json')\n",
    "]\n",
    "\n",
    "perf_seg_dict_parent_folder_name_list = [\n",
    "    'abnormal_5fold_segmentation',\n",
    "    'controls_trained_5fold_segmentation',\n",
    "    'training_with_controls_gendice_focal_no_biobank_segmentation',\n",
    "    'control_training_wf_div10_dicefocal',\n",
    "    'control_training_wf_div1000_dicefocal'\n",
    "]\n",
    "\n",
    "# display the distribution of the dice_metric for each dataset related to the volume of the lesion and compute the correlation between the two on each plot \n",
    "from scipy.stats import pearsonr\n",
    "# make plots taller and larger\n",
    "plt.rcParams['figure.figsize'] = [20, 15]\n",
    "for i, perf_seg_dict in enumerate(perf_seg_dict_list):\n",
    "    # print(perf_seg_dict_parent_folder_name_list[i])\n",
    "    plt.scatter([perf_seg_dict[k]['volume'] for k in perf_seg_dict], [perf_seg_dict[k]['dice_metric'] for k in perf_seg_dict])\n",
    "    corr = pearsonr([perf_seg_dict[k]['volume'] for k in perf_seg_dict], [perf_seg_dict[k]['dice_metric'] for k in perf_seg_dict])\n",
    "    plt.title(f'{perf_seg_dict_parent_folder_name_list[i]} / corr: {corr[0]:.2f}')\n",
    "    plt.show()\n",
    "    print(corr)"
   ],
   "metadata": {
    "collapsed": false
   }
  },
  {
   "cell_type": "code",
   "execution_count": 18,
   "outputs": [
    {
     "data": {
      "text/plain": "<Figure size 640x480 with 1 Axes>",
      "image/png": "[encoded data removed]"
     },
     "metadata": {},
     "output_type": "display_data"
    },
    {
     "name": "stdout",
     "output_type": "stream",
     "text": [
      "PearsonRResult(statistic=-0.07214794158358694, pvalue=1.627528355889108e-05)\n"
     ]
    }
   ],
   "source": [
    "# do the same but for the label size from b1000_label_dict and the mean_dice_metric from the mean_dice_dict\n",
    "b1000_label_dict = open_json('/media/chrisfoulon/HDD2/final_training_set/cleaned_abnormal_b1000_info_dict_label_size.json')\n",
    "plt.scatter([b1000_label_dict[k]['label_size'] for k in b1000_label_dict], [mean_dice_dict[k]['mean_dice_metric'] for k in mean_dice_dict])\n",
    "corr = pearsonr([b1000_label_dict[k]['label_size'] for k in b1000_label_dict], [mean_dice_dict[k]['mean_dice_metric'] for k in mean_dice_dict])\n",
    "plt.title(f'corr: {corr[0]:.2f}')\n",
    "plt.show()\n",
    "print(corr)\n"
   ],
   "metadata": {
    "collapsed": false,
    "ExecuteTime": {
     "end_time": "2023-08-25T15:40:07.895965861Z",
     "start_time": "2023-08-25T15:40:07.656116605Z"
    }
   }
  },
  {
   "cell_type": "code",
   "execution_count": 22,
   "outputs": [
    {
     "data": {
      "text/plain": "<Figure size 640x480 with 1 Axes>",
      "image/png": "[encoded data removed]"
     },
     "metadata": {},
     "output_type": "display_data"
    }
   ],
   "source": [
    "# plot lesion volume function of distance_ratio and display the correlation\n",
    "from matplotlib import pyplot as plt\n",
    "from scipy.stats import pearsonr\n",
    "# '/media/chrisfoulon/HDD2/final_training_set/abnormal_5fold_segmentation/perf_seg_dict_with_distance_ratio.json'\n",
    "perf_seg_dict = open_json('/media/chrisfoulon/HDD2/final_training_set/abnormal_5fold_segmentation/perf_seg_dict_with_distance_ratio.json')\n",
    "plt.scatter([perf_seg_dict[k]['volume'] for k in perf_seg_dict], [perf_seg_dict[k]['dice_dist_ratio'] for k in perf_seg_dict])\n",
    "corr = pearsonr([perf_seg_dict[k]['volume'] for k in perf_seg_dict], [perf_seg_dict[k]['dice_dist_ratio'] for k in perf_seg_dict])\n",
    "plt.title(f'corr: {corr[0]:.2f}')\n",
    "plt.show()"
   ],
   "metadata": {
    "collapsed": false,
    "ExecuteTime": {
     "end_time": "2023-08-30T14:33:03.017035650Z",
     "start_time": "2023-08-30T14:33:02.750634554Z"
    }
   }
  },
  {
   "cell_type": "code",
   "execution_count": 42,
   "outputs": [
    {
     "name": "stderr",
     "output_type": "stream",
     "text": [
      "  4%|▍         | 154/3563 [00:04<01:21, 41.85it/s]/home/chrisfoulon/miniconda3/lib/python3.10/site-packages/monai/metrics/hausdorff_distance.py:193: UserWarning: the prediction of class 0 is all 0, this may result in nan/inf distance.\n",
      "  warnings.warn(f\"the prediction of class {c} is all 0, this may result in nan/inf distance.\")\n",
      "/home/chrisfoulon/miniconda3/lib/python3.10/site-packages/numpy/lib/function_base.py:4655: RuntimeWarning: invalid value encountered in subtract\n",
      "  diff_b_a = subtract(b, a)\n",
      "100%|██████████| 3563/3563 [01:30<00:00, 39.40it/s]\n"
     ]
    }
   ],
   "source": [
    "from lesseg_unet.loss_and_metric import distance_ratio_volume\n",
    "\n",
    "def perf_seg_dict_add_distance_ratio(perf_seg_dict_path, output_path):\n",
    "    perf_seg_dict = open_json(perf_seg_dict_path)\n",
    "    for k in tqdm(perf_seg_dict):\n",
    "        # add the distance_ratio to the perf_seg_dict and then add the average of dice_metric and distance_ratio to the dice_dist_ratio \n",
    "        perf_seg_dict[k]['distance_ratio'] = distance_ratio_nifti(perf_seg_dict[k]['label'], perf_seg_dict[k]['segmentation'])\n",
    "        perf_seg_dict[k]['dice_dist_ratio'] = (perf_seg_dict[k]['dice_metric'] + perf_seg_dict[k]['distance_ratio']) / 2\n",
    "    # sort the dict by dice_dist_ratio (ascending)\n",
    "    perf_seg_dict = {k: v for k, v in sorted(perf_seg_dict.items(), key=lambda item: item[1]['dice_dist_ratio'])}\n",
    "    # save the perf_seg_dict\n",
    "    save_json(output_path, perf_seg_dict)\n",
    "\n",
    "perf_seg_dict_list = [\n",
    "    # '/media/chrisfoulon/HDD2/final_training_set/abnormal_5fold_segmentation/perf_seg_dict.json',\n",
    "    # '/media/chrisfoulon/HDD2/final_training_set/controls_trained_5fold_segmentation/perf_seg_dict.json',\n",
    "    # '/media/chrisfoulon/HDD2/final_training_set/training_with_controls_gendice_focal_no_biobank_segmentation/perf_seg_dict.json',\n",
    "    # '/media/chrisfoulon/HDD2/final_training_set/control_training_wf_div10_dicefocal/perf_seg_dict.json',\n",
    "    # '/media/chrisfoulon/HDD2/final_training_set/control_training_wf_div1000_dicefocal/perf_seg_dict.json',\n",
    "    '/media/chrisfoulon/HDD2/final_training_set/abnormal_segmentation_dice_focal/perf_seg_dict.json'\n",
    "]\n",
    "\n",
    "# run perf_seg_dict_add_distance_ratio on each perf_seg_dict\n",
    "for perf_seg_dict in perf_seg_dict_list:\n",
    "    perf_seg_dict_add_distance_ratio(perf_seg_dict, perf_seg_dict.replace('.json', '_with_distance_ratio.json'))"
   ],
   "metadata": {
    "collapsed": false,
    "ExecuteTime": {
     "end_time": "2023-09-04T15:01:01.546960429Z",
     "start_time": "2023-09-04T14:59:30.849949586Z"
    }
   }
  },
  {
   "cell_type": "code",
   "execution_count": 43,
   "outputs": [
    {
     "name": "stdout",
     "output_type": "stream",
     "text": [
      "abnormal_5fold_segmentation\n",
      "0.8767417732227846 3.0536868960945602 0.9798508924589319 0.9282963328408582 1287.0550098231827 \n",
      "controls_trained_5fold_segmentation\n",
      "0.8653619464540683 3.1977899177640716 0.9751108413831678 0.9202363939186182 1289.110861633455 \n",
      "training_with_controls_gendice_focal_no_biobank_segmentation\n",
      "0.8640696352581412 3.1693777748993397 0.976810409699441 0.9204400224787913 1266.066797642436 \n",
      "control_training_wf_div10_dicefocal\n",
      "0.8700511560548194 3.0248708811432015 0.9786163353959315 0.9243337457253755 1286.9980353634578 \n",
      "abnormal_segmentation_dice_focal\n"
     ]
    },
    {
     "ename": "NotADirectoryError",
     "evalue": "[Errno 20] Not a directory: '/media/chrisfoulon/HDD2/final_training_set/control_training_wf_div1000_dicefocal/perf_seg_dict_with_distance_ratio.json/media/chrisfoulon/HDD2/final_training_set/abnormal_segmentation_dice_focal/perf_seg_dict_with_distance_ratio.json'",
     "output_type": "error",
     "traceback": [
      "\u001B[0;31m---------------------------------------------------------------------------\u001B[0m",
      "\u001B[0;31mNotADirectoryError\u001B[0m                        Traceback (most recent call last)",
      "Cell \u001B[0;32mIn[43], line 26\u001B[0m\n\u001B[1;32m     24\u001B[0m \u001B[38;5;28;01mfor\u001B[39;00m perf_seg_dict \u001B[38;5;129;01min\u001B[39;00m perf_seg_dict_with_distance_ratio_list:\n\u001B[1;32m     25\u001B[0m     \u001B[38;5;28mprint\u001B[39m(Path(perf_seg_dict)\u001B[38;5;241m.\u001B[39mparent\u001B[38;5;241m.\u001B[39mname)\n\u001B[0;32m---> 26\u001B[0m     perf_seg_dict \u001B[38;5;241m=\u001B[39m \u001B[43mopen_json\u001B[49m\u001B[43m(\u001B[49m\u001B[43mperf_seg_dict\u001B[49m\u001B[43m)\u001B[49m\n\u001B[1;32m     27\u001B[0m     \u001B[38;5;28mprint\u001B[39m(np\u001B[38;5;241m.\u001B[39mmean([perf_seg_dict[k][\u001B[38;5;124m'\u001B[39m\u001B[38;5;124mdice_metric\u001B[39m\u001B[38;5;124m'\u001B[39m] \u001B[38;5;28;01mfor\u001B[39;00m k \u001B[38;5;129;01min\u001B[39;00m perf_seg_dict]), end\u001B[38;5;241m=\u001B[39m\u001B[38;5;124m'\u001B[39m\u001B[38;5;124m \u001B[39m\u001B[38;5;124m'\u001B[39m)\n\u001B[1;32m     28\u001B[0m     \u001B[38;5;28mprint\u001B[39m(np\u001B[38;5;241m.\u001B[39mmean([perf_seg_dict[k][\u001B[38;5;124m'\u001B[39m\u001B[38;5;124mdistance\u001B[39m\u001B[38;5;124m'\u001B[39m] \u001B[38;5;28;01mfor\u001B[39;00m k \u001B[38;5;129;01min\u001B[39;00m perf_seg_dict]), end\u001B[38;5;241m=\u001B[39m\u001B[38;5;124m'\u001B[39m\u001B[38;5;124m \u001B[39m\u001B[38;5;124m'\u001B[39m)\n",
      "File \u001B[0;32m~/miniconda3/lib/python3.10/site-packages/bcblib/tools/general_utils.py:8\u001B[0m, in \u001B[0;36mopen_json\u001B[0;34m(path)\u001B[0m\n\u001B[1;32m      7\u001B[0m \u001B[38;5;28;01mdef\u001B[39;00m \u001B[38;5;21mopen_json\u001B[39m(path):\n\u001B[0;32m----> 8\u001B[0m     \u001B[38;5;28;01mwith\u001B[39;00m \u001B[38;5;28;43mopen\u001B[39;49m\u001B[43m(\u001B[49m\u001B[43mpath\u001B[49m\u001B[43m,\u001B[49m\u001B[43m \u001B[49m\u001B[38;5;124;43m'\u001B[39;49m\u001B[38;5;124;43mr\u001B[39;49m\u001B[38;5;124;43m'\u001B[39;49m\u001B[43m)\u001B[49m \u001B[38;5;28;01mas\u001B[39;00m j:\n\u001B[1;32m      9\u001B[0m         \u001B[38;5;28;01mreturn\u001B[39;00m json\u001B[38;5;241m.\u001B[39mload(j)\n",
      "\u001B[0;31mNotADirectoryError\u001B[0m: [Errno 20] Not a directory: '/media/chrisfoulon/HDD2/final_training_set/control_training_wf_div1000_dicefocal/perf_seg_dict_with_distance_ratio.json/media/chrisfoulon/HDD2/final_training_set/abnormal_segmentation_dice_focal/perf_seg_dict_with_distance_ratio.json'"
     ]
    }
   ],
   "source": [
    "# list paths of _with_distance_ratio perf_seg_dict\n",
    "perf_seg_dict_with_distance_ratio_list = [\n",
    "    '/media/chrisfoulon/HDD2/final_training_set/abnormal_5fold_segmentation/perf_seg_dict_with_distance_ratio.json',\n",
    "    '/media/chrisfoulon/HDD2/final_training_set/controls_trained_5fold_segmentation/perf_seg_dict_with_distance_ratio.json',\n",
    "    '/media/chrisfoulon/HDD2/final_training_set/training_with_controls_gendice_focal_no_biobank_segmentation/perf_seg_dict_with_distance_ratio.json',\n",
    "    '/media/chrisfoulon/HDD2/final_training_set/control_training_wf_div10_dicefocal/perf_seg_dict_with_distance_ratio.json',\n",
    "    '/media/chrisfoulon/HDD2/final_training_set/control_training_wf_div1000_dicefocal/perf_seg_dict_with_distance_ratio.json'\n",
    "    '/media/chrisfoulon/HDD2/final_training_set/abnormal_segmentation_dice_focal/perf_seg_dict_with_distance_ratio.json'\n",
    "]\n",
    "\n",
    "# load each of them and print the name of the file and the mean of all the dice_metric, distance, distance_ratio and dice_dist_ratio and volume (all the keys in the dict)\n",
    "# for perf_seg_dict in perf_seg_dict_with_distance_ratio_list:\n",
    "#     print(Path(perf_seg_dict).name)\n",
    "#     perf_seg_dict = open_json(perf_seg_dict)\n",
    "#     print(np.mean([perf_seg_dict[k]['dice_metric'] for k in perf_seg_dict]))\n",
    "#     print(np.mean([perf_seg_dict[k]['distance'] for k in perf_seg_dict]))\n",
    "#     print(np.mean([perf_seg_dict[k]['distance_ratio'] for k in perf_seg_dict]))\n",
    "#     print(np.mean([perf_seg_dict[k]['dice_dist_ratio'] for k in perf_seg_dict]))\n",
    "#     print(np.mean([perf_seg_dict[k]['volume'] for k in perf_seg_dict]))\n",
    "#     print()\n",
    "    \n",
    "# instead the values should be displayed next to each other (one line per perf_seg_dict)\n",
    "\n",
    "for perf_seg_dict in perf_seg_dict_with_distance_ratio_list:\n",
    "    print(Path(perf_seg_dict).parent.name)\n",
    "    perf_seg_dict = open_json(perf_seg_dict)\n",
    "    print(np.mean([perf_seg_dict[k]['dice_metric'] for k in perf_seg_dict]), end=' ')\n",
    "    print(np.mean([perf_seg_dict[k]['distance'] for k in perf_seg_dict]), end=' ')\n",
    "    print(np.mean([perf_seg_dict[k]['distance_ratio'] for k in perf_seg_dict]), end=' ')\n",
    "    print(np.mean([perf_seg_dict[k]['dice_dist_ratio'] for k in perf_seg_dict]), end=' ')\n",
    "    print(np.mean([perf_seg_dict[k]['volume'] for k in perf_seg_dict]), end=' ')\n",
    "    print()\n",
    "    "
   ],
   "metadata": {
    "collapsed": false,
    "ExecuteTime": {
     "end_time": "2023-09-04T15:12:01.959661756Z",
     "start_time": "2023-09-04T15:12:01.823929573Z"
    }
   }
  },
  {
   "cell_type": "code",
   "execution_count": 32,
   "outputs": [
    {
     "name": "stdout",
     "output_type": "stream",
     "text": [
      "abnormal_5fold_segmentation\n"
     ]
    },
    {
     "name": "stderr",
     "output_type": "stream",
     "text": [
      "100%|██████████| 3563/3563 [01:58<00:00, 30.02it/s]\n"
     ]
    },
    {
     "name": "stdout",
     "output_type": "stream",
     "text": [
      "controls_trained_5fold_segmentation\n"
     ]
    },
    {
     "name": "stderr",
     "output_type": "stream",
     "text": [
      "100%|██████████| 3563/3563 [01:11<00:00, 49.81it/s]\n"
     ]
    },
    {
     "name": "stdout",
     "output_type": "stream",
     "text": [
      "training_with_controls_gendice_focal_no_biobank_segmentation\n"
     ]
    },
    {
     "name": "stderr",
     "output_type": "stream",
     "text": [
      "100%|██████████| 3563/3563 [01:12<00:00, 49.46it/s]\n"
     ]
    },
    {
     "name": "stdout",
     "output_type": "stream",
     "text": [
      "control_training_wf_div10_dicefocal\n"
     ]
    },
    {
     "name": "stderr",
     "output_type": "stream",
     "text": [
      "100%|██████████| 3563/3563 [02:12<00:00, 26.95it/s]\n"
     ]
    },
    {
     "name": "stdout",
     "output_type": "stream",
     "text": [
      "control_training_wf_div1000_dicefocal\n"
     ]
    },
    {
     "name": "stderr",
     "output_type": "stream",
     "text": [
      "100%|██████████| 3563/3563 [01:56<00:00, 30.55it/s]\n"
     ]
    }
   ],
   "source": [
    "from lesseg_unet.visualisation_utils import perf_dataset_overlap_from_json\n",
    "\n",
    "# \n",
    "# nib.save(abn_overlap, '/media/chrisfoulon/HDD2/final_training_set/test_abnormal_gen_dice_focal_training/fold_0_abnormal_validation/val_perf_overlap.nii.gz')\n",
    "\n",
    "# Compute the weighted overlap between the segmentation and the label for each image in the perf_seg_dict of the perf_seg_dict_with_distance_ratio_list\n",
    "for perf_seg_dict_path in perf_seg_dict_with_distance_ratio_list:\n",
    "    print(Path(perf_seg_dict_path).parent.name)\n",
    "    perf_seg_dict = open_json(perf_seg_dict_path)\n",
    "    overlap = perf_dataset_overlap_from_json(perf_seg_dict, 'segmentation', perf_key='dice_dist_ratio', non_zero_only=True)\n",
    "    nib.save(overlap, Path(Path(perf_seg_dict_path).parent, 'dice_dist_ratio_overlap.nii.gz'))\n",
    "\n",
    "\n"
   ],
   "metadata": {
    "collapsed": false,
    "ExecuteTime": {
     "end_time": "2023-08-30T16:16:46.894041428Z",
     "start_time": "2023-08-30T15:53:19.746102384Z"
    }
   }
  },
  {
   "cell_type": "code",
   "execution_count": 34,
   "outputs": [
    {
     "name": "stdout",
     "output_type": "stream",
     "text": [
      "XOR FALSE\n"
     ]
    }
   ],
   "source": [
    "a = True\n",
    "b = True\n",
    "if a ^ b:\n",
    "    print('XOR TRUE')\n",
    "else:\n",
    "    print('XOR FALSE')"
   ],
   "metadata": {
    "collapsed": false,
    "ExecuteTime": {
     "end_time": "2023-09-04T10:32:56.388014740Z",
     "start_time": "2023-09-04T10:32:56.319923095Z"
    }
   }
  }
 ],
 "metadata": {
  "kernelspec": {
   "display_name": "Python 3",
   "language": "python",
   "name": "python3"
  },
  "language_info": {
   "codemirror_mode": {
    "name": "ipython",
    "version": 2
   },
   "file_extension": ".py",
   "mimetype": "text/x-python",
   "name": "python",
   "nbconvert_exporter": "python",
   "pygments_lexer": "ipython2",
   "version": "2.7.6"
  }
 },
 "nbformat": 4,
 "nbformat_minor": 0
}
